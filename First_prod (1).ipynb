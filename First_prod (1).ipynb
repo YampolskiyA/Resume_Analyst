{
 "cells": [
  {
   "cell_type": "markdown",
   "metadata": {},
   "source": [
    "Задание 1. A/B–тестирование\n",
    "1.1 Условие\n",
    "Одной из основных задач аналитика в нашей команде является корректное проведение экспериментов. \n",
    "Для этого мы применяем метод A/B–тестирования. \n",
    "В ходе тестирования одной гипотезы целевой группе была предложена новая механика оплаты услуг на сайте, у контрольной группы оставалась базовая механика. \n",
    "В качестве задания Вам необходимо проанализировать итоги эксперимента и сделать вывод, стоит ли запускать новую механику оплаты на всех пользователей.\n",
    "1.2 Входные данные\n",
    "В качестве входных данных Вы имеете 4 csv-файла:\n",
    "groups.csv - файл с информацией о принадлежности пользователя к контрольной или экспериментальной группе (А – контроль, B – целевая группа) \n",
    "groups_add.csv - дополнительный файл с пользователями, который вам прислали спустя 2 дня после передачи данных\n",
    "active_studs.csv - файл с информацией о пользователях, которые зашли на платформу в дни проведения эксперимента. \n",
    "checks.csv - файл с информацией об оплатах пользователей в дни проведения эксперимента. \n",
    "1.3 Вопросы\n",
    "Предлагаем Вам ответить на следующие вопросы:\n",
    "На какие метрики Вы смотрите в ходе анализа и почему?\n",
    "Имеются ли различия в показателях и с чем они могут быть связаны?\n",
    "Являются ли эти различия статистически значимыми?\n",
    "Стоит ли запускать новую механику на всех пользователей?\n",
    "Данный список вопросов не является обязательным, и Вы можете при своём ответе опираться на собственный план.\n",
    "1.4 Требования к ответу\n",
    "При выполнении тестового задания необходимо использовать язык программирования Python. \n",
    "В файле обязательно должны быть комментарии к тем действиям, которые Вы выполняете с данными. \n",
    "Файл должен представлять собой законченный отчёт с выводами, сделанными в ходе исследования."
   ]
  },
  {
   "cell_type": "markdown",
   "metadata": {},
   "source": [
    "# Python и EDA"
   ]
  },
  {
   "cell_type": "code",
   "execution_count": 1,
   "metadata": {},
   "outputs": [],
   "source": [
    "# Импортируем библиотеки\n",
    "import requests\n",
    "import urllib\n",
    "import json\n",
    "import pandas as pd\n",
    "import numpy as np\n",
    "import seaborn as sns\n",
    "import matplotlib.pyplot as plt\n",
    "import pandahouse as ph\n",
    "\n",
    "import scipy.stats as ss\n",
    "# from scipy.stats import bootstrap\n",
    "\n",
    "%matplotlib inline"
   ]
  },
  {
   "cell_type": "code",
   "execution_count": 2,
   "metadata": {},
   "outputs": [],
   "source": [
    "# Подгружаем данные\n",
    "df_active_students = pd.read_csv('active_studs.csv', encoding='UTF-8')\n",
    "df_checks = pd.read_csv('checks.csv', encoding='UTF-8',sep=';')\n",
    "df_group_add = pd.read_csv('group_add.csv', encoding='UTF-8')\n",
    "df_groups = pd.read_csv('groups.csv', encoding='UTF-8',sep=';')"
   ]
  },
  {
   "cell_type": "code",
   "execution_count": 3,
   "metadata": {},
   "outputs": [
    {
     "data": {
      "text/html": [
       "<div>\n",
       "<style scoped>\n",
       "    .dataframe tbody tr th:only-of-type {\n",
       "        vertical-align: middle;\n",
       "    }\n",
       "\n",
       "    .dataframe tbody tr th {\n",
       "        vertical-align: top;\n",
       "    }\n",
       "\n",
       "    .dataframe thead th {\n",
       "        text-align: right;\n",
       "    }\n",
       "</style>\n",
       "<table border=\"1\" class=\"dataframe\">\n",
       "  <thead>\n",
       "    <tr style=\"text-align: right;\">\n",
       "      <th></th>\n",
       "      <th>student_id</th>\n",
       "    </tr>\n",
       "  </thead>\n",
       "  <tbody>\n",
       "    <tr>\n",
       "      <th>0</th>\n",
       "      <td>581585</td>\n",
       "    </tr>\n",
       "    <tr>\n",
       "      <th>1</th>\n",
       "      <td>5723133</td>\n",
       "    </tr>\n",
       "    <tr>\n",
       "      <th>2</th>\n",
       "      <td>3276743</td>\n",
       "    </tr>\n",
       "    <tr>\n",
       "      <th>3</th>\n",
       "      <td>4238589</td>\n",
       "    </tr>\n",
       "    <tr>\n",
       "      <th>4</th>\n",
       "      <td>4475369</td>\n",
       "    </tr>\n",
       "  </tbody>\n",
       "</table>\n",
       "</div>"
      ],
      "text/plain": [
       "   student_id\n",
       "0      581585\n",
       "1     5723133\n",
       "2     3276743\n",
       "3     4238589\n",
       "4     4475369"
      ]
     },
     "execution_count": 3,
     "metadata": {},
     "output_type": "execute_result"
    }
   ],
   "source": [
    "df_active_students.head()"
   ]
  },
  {
   "cell_type": "code",
   "execution_count": 4,
   "metadata": {},
   "outputs": [
    {
     "name": "stdout",
     "output_type": "stream",
     "text": [
      "Размерность active_students (8341, 1)\n",
      "Уникальных 8341\n",
      "Количество пустых:\n",
      "student_id    0\n",
      "dtype: int64\n"
     ]
    }
   ],
   "source": [
    "print(f\"Размерность active_students {df_active_students.shape}\")\n",
    "print(f\"Уникальных {df_active_students.student_id.nunique()}\")\n",
    "# Все студенты уникальны\n",
    "print(f\"Количество пустых:\\n{df_active_students.isnull().sum()}\") # Необязательно"
   ]
  },
  {
   "cell_type": "code",
   "execution_count": 5,
   "metadata": {},
   "outputs": [
    {
     "data": {
      "text/html": [
       "<div>\n",
       "<style scoped>\n",
       "    .dataframe tbody tr th:only-of-type {\n",
       "        vertical-align: middle;\n",
       "    }\n",
       "\n",
       "    .dataframe tbody tr th {\n",
       "        vertical-align: top;\n",
       "    }\n",
       "\n",
       "    .dataframe thead th {\n",
       "        text-align: right;\n",
       "    }\n",
       "</style>\n",
       "<table border=\"1\" class=\"dataframe\">\n",
       "  <thead>\n",
       "    <tr style=\"text-align: right;\">\n",
       "      <th></th>\n",
       "      <th>student_id</th>\n",
       "      <th>rev</th>\n",
       "    </tr>\n",
       "  </thead>\n",
       "  <tbody>\n",
       "    <tr>\n",
       "      <th>0</th>\n",
       "      <td>1627</td>\n",
       "      <td>990.0</td>\n",
       "    </tr>\n",
       "    <tr>\n",
       "      <th>1</th>\n",
       "      <td>3185</td>\n",
       "      <td>690.0</td>\n",
       "    </tr>\n",
       "    <tr>\n",
       "      <th>2</th>\n",
       "      <td>25973</td>\n",
       "      <td>690.0</td>\n",
       "    </tr>\n",
       "    <tr>\n",
       "      <th>3</th>\n",
       "      <td>26280</td>\n",
       "      <td>690.0</td>\n",
       "    </tr>\n",
       "    <tr>\n",
       "      <th>4</th>\n",
       "      <td>100300</td>\n",
       "      <td>990.0</td>\n",
       "    </tr>\n",
       "  </tbody>\n",
       "</table>\n",
       "</div>"
      ],
      "text/plain": [
       "   student_id    rev\n",
       "0        1627  990.0\n",
       "1        3185  690.0\n",
       "2       25973  690.0\n",
       "3       26280  690.0\n",
       "4      100300  990.0"
      ]
     },
     "execution_count": 5,
     "metadata": {},
     "output_type": "execute_result"
    }
   ],
   "source": [
    "df_checks.head()"
   ]
  },
  {
   "cell_type": "code",
   "execution_count": 6,
   "metadata": {},
   "outputs": [
    {
     "name": "stdout",
     "output_type": "stream",
     "text": [
      "Размерность df_checks (541, 2)\n",
      "Уникальных 541\n",
      "Количество пустых:\n",
      "student_id    0\n",
      "rev           0\n",
      "dtype: int64\n"
     ]
    }
   ],
   "source": [
    "print(f\"Размерность df_checks {df_checks.shape}\")\n",
    "print(f\"Уникальных {df_checks.student_id.nunique()}\")\n",
    "# Все студенты уникальны с присвоенным rev\n",
    "print(f\"Количество пустых:\\n{df_checks.isnull().sum()}\") # Необязательно"
   ]
  },
  {
   "cell_type": "code",
   "execution_count": 7,
   "metadata": {},
   "outputs": [
    {
     "data": {
      "text/html": [
       "<div>\n",
       "<style scoped>\n",
       "    .dataframe tbody tr th:only-of-type {\n",
       "        vertical-align: middle;\n",
       "    }\n",
       "\n",
       "    .dataframe tbody tr th {\n",
       "        vertical-align: top;\n",
       "    }\n",
       "\n",
       "    .dataframe thead th {\n",
       "        text-align: right;\n",
       "    }\n",
       "</style>\n",
       "<table border=\"1\" class=\"dataframe\">\n",
       "  <thead>\n",
       "    <tr style=\"text-align: right;\">\n",
       "      <th></th>\n",
       "      <th>id</th>\n",
       "      <th>grp</th>\n",
       "    </tr>\n",
       "  </thead>\n",
       "  <tbody>\n",
       "    <tr>\n",
       "      <th>0</th>\n",
       "      <td>5694584</td>\n",
       "      <td>B</td>\n",
       "    </tr>\n",
       "    <tr>\n",
       "      <th>1</th>\n",
       "      <td>5694830</td>\n",
       "      <td>B</td>\n",
       "    </tr>\n",
       "    <tr>\n",
       "      <th>2</th>\n",
       "      <td>5695057</td>\n",
       "      <td>B</td>\n",
       "    </tr>\n",
       "    <tr>\n",
       "      <th>3</th>\n",
       "      <td>5698872</td>\n",
       "      <td>B</td>\n",
       "    </tr>\n",
       "    <tr>\n",
       "      <th>4</th>\n",
       "      <td>5699067</td>\n",
       "      <td>B</td>\n",
       "    </tr>\n",
       "  </tbody>\n",
       "</table>\n",
       "</div>"
      ],
      "text/plain": [
       "        id grp\n",
       "0  5694584   B\n",
       "1  5694830   B\n",
       "2  5695057   B\n",
       "3  5698872   B\n",
       "4  5699067   B"
      ]
     },
     "execution_count": 7,
     "metadata": {},
     "output_type": "execute_result"
    }
   ],
   "source": [
    "df_group_add.head()"
   ]
  },
  {
   "cell_type": "code",
   "execution_count": 8,
   "metadata": {},
   "outputs": [
    {
     "name": "stdout",
     "output_type": "stream",
     "text": [
      "Размерность df_group_add (92, 2)\n",
      "Размерность df_group_add 92\n",
      "Количество групп: df_group_add 2\n",
      "Количество пустых:\n",
      "id     0\n",
      "grp    0\n",
      "dtype: int64\n"
     ]
    }
   ],
   "source": [
    "print(f\"Размерность df_group_add {df_group_add.shape}\")\n",
    "print(f\"Размерность df_group_add {df_group_add.id.nunique()}\")\n",
    "print(f\"Количество групп: df_group_add {df_group_add.grp.nunique()}\")\n",
    "# Дополнительные пользователи с группой, уникальны \n",
    "print(f\"Количество пустых:\\n{df_group_add.isnull().sum()}\")"
   ]
  },
  {
   "cell_type": "code",
   "execution_count": 9,
   "metadata": {},
   "outputs": [
    {
     "data": {
      "text/html": [
       "<div>\n",
       "<style scoped>\n",
       "    .dataframe tbody tr th:only-of-type {\n",
       "        vertical-align: middle;\n",
       "    }\n",
       "\n",
       "    .dataframe tbody tr th {\n",
       "        vertical-align: top;\n",
       "    }\n",
       "\n",
       "    .dataframe thead th {\n",
       "        text-align: right;\n",
       "    }\n",
       "</style>\n",
       "<table border=\"1\" class=\"dataframe\">\n",
       "  <thead>\n",
       "    <tr style=\"text-align: right;\">\n",
       "      <th></th>\n",
       "      <th>id</th>\n",
       "      <th>grp</th>\n",
       "    </tr>\n",
       "  </thead>\n",
       "  <tbody>\n",
       "    <tr>\n",
       "      <th>0</th>\n",
       "      <td>1489</td>\n",
       "      <td>B</td>\n",
       "    </tr>\n",
       "    <tr>\n",
       "      <th>1</th>\n",
       "      <td>1627</td>\n",
       "      <td>A</td>\n",
       "    </tr>\n",
       "    <tr>\n",
       "      <th>2</th>\n",
       "      <td>1768</td>\n",
       "      <td>B</td>\n",
       "    </tr>\n",
       "    <tr>\n",
       "      <th>3</th>\n",
       "      <td>1783</td>\n",
       "      <td>B</td>\n",
       "    </tr>\n",
       "    <tr>\n",
       "      <th>4</th>\n",
       "      <td>1794</td>\n",
       "      <td>A</td>\n",
       "    </tr>\n",
       "  </tbody>\n",
       "</table>\n",
       "</div>"
      ],
      "text/plain": [
       "     id grp\n",
       "0  1489   B\n",
       "1  1627   A\n",
       "2  1768   B\n",
       "3  1783   B\n",
       "4  1794   A"
      ]
     },
     "execution_count": 9,
     "metadata": {},
     "output_type": "execute_result"
    }
   ],
   "source": [
    "df_groups.head()"
   ]
  },
  {
   "cell_type": "code",
   "execution_count": 10,
   "metadata": {},
   "outputs": [
    {
     "name": "stdout",
     "output_type": "stream",
     "text": [
      "Размерность df_groups (74484, 2)\n",
      "Уникальных df_groups 74484\n",
      "Количество групп: df_group_add 2\n",
      "Количество пустых:\n",
      "id     0\n",
      "grp    0\n",
      "dtype: int64\n"
     ]
    }
   ],
   "source": [
    "print(f\"Размерность df_groups {df_groups.shape}\")\n",
    "print(f\"Уникальных df_groups {df_groups.id.nunique()}\")\n",
    "print(f\"Количество групп: df_group_add {df_groups.grp.nunique()}\")\n",
    "# Пользователи и их группы, уникальны\n",
    "print(f\"Количество пустых:\\n{df_groups.isnull().sum()}\")"
   ]
  },
  {
   "cell_type": "markdown",
   "metadata": {},
   "source": [
    "Посмотрим все ли участники испытания попали в группы. Также возникает вопрос. что делать со студентами, которые присоединились после эксперимента. Мы сравним со студентами, которые не попали в группы."
   ]
  },
  {
   "cell_type": "code",
   "execution_count": 11,
   "metadata": {},
   "outputs": [],
   "source": [
    "# подправим название столбцов в df_group_add и df_groups\n",
    "df_group_add = df_group_add.rename(columns={'id':'student_id'})\n",
    "df_groups = df_groups.rename(columns={'id':'student_id'})"
   ]
  },
  {
   "cell_type": "code",
   "execution_count": 12,
   "metadata": {},
   "outputs": [],
   "source": [
    "# Студенты из актива, которые не попали в группы\n",
    "df_students_without_groups = df_active_students.merge(df_groups, on='student_id', how='left')\\\n",
    ".query('grp.isnull()')"
   ]
  },
  {
   "cell_type": "code",
   "execution_count": 13,
   "metadata": {},
   "outputs": [
    {
     "data": {
      "text/html": [
       "<div>\n",
       "<style scoped>\n",
       "    .dataframe tbody tr th:only-of-type {\n",
       "        vertical-align: middle;\n",
       "    }\n",
       "\n",
       "    .dataframe tbody tr th {\n",
       "        vertical-align: top;\n",
       "    }\n",
       "\n",
       "    .dataframe thead th {\n",
       "        text-align: right;\n",
       "    }\n",
       "</style>\n",
       "<table border=\"1\" class=\"dataframe\">\n",
       "  <thead>\n",
       "    <tr style=\"text-align: right;\">\n",
       "      <th></th>\n",
       "      <th>student_id</th>\n",
       "      <th>grp_x</th>\n",
       "      <th>grp_y</th>\n",
       "    </tr>\n",
       "  </thead>\n",
       "  <tbody>\n",
       "    <tr>\n",
       "      <th>0</th>\n",
       "      <td>5723133</td>\n",
       "      <td>NaN</td>\n",
       "      <td>A</td>\n",
       "    </tr>\n",
       "    <tr>\n",
       "      <th>1</th>\n",
       "      <td>5951797</td>\n",
       "      <td>NaN</td>\n",
       "      <td>B</td>\n",
       "    </tr>\n",
       "    <tr>\n",
       "      <th>2</th>\n",
       "      <td>5730382</td>\n",
       "      <td>NaN</td>\n",
       "      <td>B</td>\n",
       "    </tr>\n",
       "    <tr>\n",
       "      <th>3</th>\n",
       "      <td>5739944</td>\n",
       "      <td>NaN</td>\n",
       "      <td>B</td>\n",
       "    </tr>\n",
       "    <tr>\n",
       "      <th>4</th>\n",
       "      <td>5945085</td>\n",
       "      <td>NaN</td>\n",
       "      <td>B</td>\n",
       "    </tr>\n",
       "  </tbody>\n",
       "</table>\n",
       "</div>"
      ],
      "text/plain": [
       "   student_id grp_x grp_y\n",
       "0     5723133   NaN     A\n",
       "1     5951797   NaN     B\n",
       "2     5730382   NaN     B\n",
       "3     5739944   NaN     B\n",
       "4     5945085   NaN     B"
      ]
     },
     "execution_count": 13,
     "metadata": {},
     "output_type": "execute_result"
    }
   ],
   "source": [
    "# Сравним с дополнительной группой\n",
    "df_students_without_groups_bag = df_students_without_groups.merge(df_group_add, on='student_id',how='inner')\n",
    "df_students_without_groups_bag.head()"
   ]
  },
  {
   "cell_type": "code",
   "execution_count": 14,
   "metadata": {},
   "outputs": [],
   "source": [
    "# Подправим таблицу\n",
    "df_students_without_groups_bag = df_students_without_groups_bag.drop(columns='grp_x').rename(columns={'grp_y':'grp'})"
   ]
  },
  {
   "cell_type": "markdown",
   "metadata": {},
   "source": [
    "У нас есть 13 студентов, которые есть в активной группе, но им не досталось группы в подборе групп, но есть в дополнительной группе участников. Будем считать, что они ошибочно не попали в распределение групп. Они участники эксперимента добавим их и составим одну общую активную таблицу с участниками и их группами."
   ]
  },
  {
   "cell_type": "code",
   "execution_count": 15,
   "metadata": {},
   "outputs": [
    {
     "data": {
      "text/plain": [
       "(8341, 2)"
      ]
     },
     "execution_count": 15,
     "metadata": {},
     "output_type": "execute_result"
    }
   ],
   "source": [
    "df_students_active = df_active_students.merge(df_groups, on='student_id', how='inner')\\\n",
    ".merge(df_students_without_groups_bag, on=['student_id','grp'], how='outer')\n",
    "df_students_active.shape\n",
    "# Все участники эксперимента получили свою группу"
   ]
  },
  {
   "cell_type": "markdown",
   "metadata": {},
   "source": [
    "Теперь посмотрим, что с чеками"
   ]
  },
  {
   "cell_type": "code",
   "execution_count": 16,
   "metadata": {},
   "outputs": [],
   "source": [
    "df_students_active_with_checks = df_students_active.merge(df_checks,on='student_id',how='left')"
   ]
  },
  {
   "cell_type": "code",
   "execution_count": 17,
   "metadata": {},
   "outputs": [],
   "source": [
    "df_students_active_with_checks.query('rev.isnull() == False').shape\n",
    "# 392 чека попали в активную группу\n",
    "# Сделаем отдельный датафрейм и посмотрим на ср чек сумму у активной группы\n",
    "df_active_checks = df_students_active_with_checks.query('rev.isnull() == False')"
   ]
  },
  {
   "cell_type": "code",
   "execution_count": 18,
   "metadata": {},
   "outputs": [
    {
     "name": "stdout",
     "output_type": "stream",
     "text": [
      "Средний чек:1193.3520497448978\n",
      "Мода чека:0    1900.0\n",
      "dtype: float64\n",
      "Медиана чека:990.0\n",
      "Сумма чеков:467794.0035\n"
     ]
    }
   ],
   "source": [
    "# Посмотрим на разные основные метрики чека среди всех активных пользователей среди купивших\n",
    "print(f\"Средний чек:{df_active_checks['rev'].mean()}\")\n",
    "print(f\"Мода чека:{df_active_checks['rev'].mode()}\")\n",
    "print(f\"Медиана чека:{df_active_checks['rev'].median()}\")\n",
    "print(f\"Сумма чеков:{df_active_checks['rev'].sum()}\")"
   ]
  },
  {
   "cell_type": "markdown",
   "metadata": {},
   "source": [
    "Мода на 1900, значит большое количество пользователей потратили ровно 1900, что-то из новой механики оплаты?"
   ]
  },
  {
   "cell_type": "code",
   "execution_count": 19,
   "metadata": {},
   "outputs": [
    {
     "data": {
      "text/html": [
       "<div>\n",
       "<style scoped>\n",
       "    .dataframe tbody tr th:only-of-type {\n",
       "        vertical-align: middle;\n",
       "    }\n",
       "\n",
       "    .dataframe tbody tr th {\n",
       "        vertical-align: top;\n",
       "    }\n",
       "\n",
       "    .dataframe thead th {\n",
       "        text-align: right;\n",
       "    }\n",
       "</style>\n",
       "<table border=\"1\" class=\"dataframe\">\n",
       "  <thead>\n",
       "    <tr style=\"text-align: right;\">\n",
       "      <th></th>\n",
       "      <th>student_id</th>\n",
       "      <th>grp</th>\n",
       "      <th>rev</th>\n",
       "    </tr>\n",
       "  </thead>\n",
       "  <tbody>\n",
       "    <tr>\n",
       "      <th>0</th>\n",
       "      <td>581585</td>\n",
       "      <td>A</td>\n",
       "      <td>0.0</td>\n",
       "    </tr>\n",
       "    <tr>\n",
       "      <th>1</th>\n",
       "      <td>3276743</td>\n",
       "      <td>B</td>\n",
       "      <td>0.0</td>\n",
       "    </tr>\n",
       "    <tr>\n",
       "      <th>2</th>\n",
       "      <td>4238589</td>\n",
       "      <td>A</td>\n",
       "      <td>0.0</td>\n",
       "    </tr>\n",
       "    <tr>\n",
       "      <th>3</th>\n",
       "      <td>4475369</td>\n",
       "      <td>B</td>\n",
       "      <td>0.0</td>\n",
       "    </tr>\n",
       "    <tr>\n",
       "      <th>4</th>\n",
       "      <td>5481015</td>\n",
       "      <td>B</td>\n",
       "      <td>0.0</td>\n",
       "    </tr>\n",
       "  </tbody>\n",
       "</table>\n",
       "</div>"
      ],
      "text/plain": [
       "   student_id grp  rev\n",
       "0      581585   A  0.0\n",
       "1     3276743   B  0.0\n",
       "2     4238589   A  0.0\n",
       "3     4475369   B  0.0\n",
       "4     5481015   B  0.0"
      ]
     },
     "execution_count": 19,
     "metadata": {},
     "output_type": "execute_result"
    }
   ],
   "source": [
    "# Заполним пустые значения и перейдем с готовым датафреймом к тестам\n",
    "# Все проверим\n",
    "df_students_active_with_checks = df_students_active_with_checks.fillna(0)\n",
    "df_students_active_with_checks.head()"
   ]
  },
  {
   "cell_type": "code",
   "execution_count": 20,
   "metadata": {},
   "outputs": [
    {
     "data": {
      "image/png": "[encoded data removed]",
      "text/plain": [
       "<Figure size 1040x640 with 1 Axes>"
      ]
     },
     "metadata": {
      "needs_background": "light"
     },
     "output_type": "display_data"
    }
   ],
   "source": [
    "# Распределение чека среди тех кто платил\n",
    "plt.figure(figsize=(13,8), dpi= 80)\n",
    "sns.set_palette(sns.color_palette('Set2', 2))\n",
    "sns.histplot(df_students_active_with_checks.query('rev != 0.0'), x='rev', kde=False)\n",
    "plt.ylim(0, 150)\n",
    "\n",
    "plt.title('Histplot buyers\\' cheks', fontsize=22)\n",
    "plt.show()"
   ]
  },
  {
   "cell_type": "code",
   "execution_count": 21,
   "metadata": {},
   "outputs": [
    {
     "data": {
      "text/plain": [
       "student_id      int64\n",
       "grp            object\n",
       "rev           float64\n",
       "dtype: object"
      ]
     },
     "execution_count": 21,
     "metadata": {},
     "output_type": "execute_result"
    }
   ],
   "source": [
    "df_students_active_with_checks.dtypes"
   ]
  },
  {
   "cell_type": "code",
   "execution_count": 22,
   "metadata": {},
   "outputs": [
    {
     "data": {
      "text/plain": [
       "student_id    0\n",
       "grp           0\n",
       "rev           0\n",
       "dtype: int64"
      ]
     },
     "execution_count": 22,
     "metadata": {},
     "output_type": "execute_result"
    }
   ],
   "source": [
    "df_students_active_with_checks.isnull().sum()"
   ]
  },
  {
   "cell_type": "code",
   "execution_count": 23,
   "metadata": {},
   "outputs": [
    {
     "data": {
      "text/plain": [
       "149"
      ]
     },
     "execution_count": 23,
     "metadata": {},
     "output_type": "execute_result"
    }
   ],
   "source": [
    "#Проверим сколько чеков не попало в активную группу\n",
    "df_checks['rev'].count() - df_students_active_with_checks.query('rev!= 0.0')['rev'].count()"
   ]
  },
  {
   "cell_type": "markdown",
   "metadata": {},
   "source": [
    "Эти 149 платежей сочтем за автоматические, они точно были не от интересующей нас группы"
   ]
  },
  {
   "cell_type": "code",
   "execution_count": 24,
   "metadata": {},
   "outputs": [
    {
     "data": {
      "text/html": [
       "<div>\n",
       "<style scoped>\n",
       "    .dataframe tbody tr th:only-of-type {\n",
       "        vertical-align: middle;\n",
       "    }\n",
       "\n",
       "    .dataframe tbody tr th {\n",
       "        vertical-align: top;\n",
       "    }\n",
       "\n",
       "    .dataframe thead th {\n",
       "        text-align: right;\n",
       "    }\n",
       "</style>\n",
       "<table border=\"1\" class=\"dataframe\">\n",
       "  <thead>\n",
       "    <tr style=\"text-align: right;\">\n",
       "      <th></th>\n",
       "      <th>student_id</th>\n",
       "      <th>grp</th>\n",
       "      <th>rev</th>\n",
       "    </tr>\n",
       "  </thead>\n",
       "  <tbody>\n",
       "    <tr>\n",
       "      <th>0</th>\n",
       "      <td>581585</td>\n",
       "      <td>A</td>\n",
       "      <td>0.0</td>\n",
       "    </tr>\n",
       "    <tr>\n",
       "      <th>1</th>\n",
       "      <td>3276743</td>\n",
       "      <td>B</td>\n",
       "      <td>0.0</td>\n",
       "    </tr>\n",
       "    <tr>\n",
       "      <th>2</th>\n",
       "      <td>4238589</td>\n",
       "      <td>A</td>\n",
       "      <td>0.0</td>\n",
       "    </tr>\n",
       "    <tr>\n",
       "      <th>3</th>\n",
       "      <td>4475369</td>\n",
       "      <td>B</td>\n",
       "      <td>0.0</td>\n",
       "    </tr>\n",
       "    <tr>\n",
       "      <th>4</th>\n",
       "      <td>5481015</td>\n",
       "      <td>B</td>\n",
       "      <td>0.0</td>\n",
       "    </tr>\n",
       "  </tbody>\n",
       "</table>\n",
       "</div>"
      ],
      "text/plain": [
       "   student_id grp  rev\n",
       "0      581585   A  0.0\n",
       "1     3276743   B  0.0\n",
       "2     4238589   A  0.0\n",
       "3     4475369   B  0.0\n",
       "4     5481015   B  0.0"
      ]
     },
     "execution_count": 24,
     "metadata": {},
     "output_type": "execute_result"
    }
   ],
   "source": [
    "# Наш рабочий датафрейм для тестов\n",
    "df_students_active_with_checks.head()"
   ]
  },
  {
   "cell_type": "markdown",
   "metadata": {},
   "source": [
    "# 1.Перейдем к A/B тестам "
   ]
  },
  {
   "cell_type": "markdown",
   "metadata": {},
   "source": [
    "Остановимся на метриках:\n",
    " - ARPU - средний доходность с одного пользователя\n",
    " - CR - Конверсия в покупку, посмотрим на привлекательность нововведений\n",
    " - ARPPU или AOV в нашем случае разницы нет, у нас 1 пользователь = 1 покупка, метрики буду равны\n",
    " \n",
    "Для указаных метрик достаточно данных, и они наиболее точно отразят зависимость групп от изменения механики оплаты. Все оплаты являются уникальными, нет повторных. Ключевыми метриками будут CR(посмотрим как повлияла новая система оплаты с точки зрения привлекательности) и ARPPU(так как мы исследуем изменения в оплате, которые затронут группы покупающих). Для начала посчитаем каждую метрику для каждой группы."
   ]
  },
  {
   "cell_type": "code",
   "execution_count": 25,
   "metadata": {},
   "outputs": [],
   "source": [
    "# Посчитаем сколько всего пользователей в группе и общий доход каждой группы\n",
    "df_metrics = df_students_active_with_checks.groupby('grp', as_index=False).agg({'rev':'sum', 'student_id':'count'}).round(0)\n",
    "# Сколько человек совершили покупку\n",
    "df_metrics['buyer_quantity'] = df_students_active_with_checks.query('rev != 0.0')\\\n",
    ".groupby('grp', as_index=False).agg({'student_id':'count'})['student_id']\n",
    "# Посчитаем CR\n",
    "df_metrics['CR'] = (df_metrics['buyer_quantity']/df_metrics['student_id']).round(3)\n",
    "# Посчитаем ARPU и ARPPU\n",
    "df_metrics['ARPU'] = (df_metrics['rev']/df_metrics['student_id']).round(2)\n",
    "df_metrics['ARPPU_AOV'] = (df_metrics['rev']/df_metrics['buyer_quantity']).round(2)"
   ]
  },
  {
   "cell_type": "code",
   "execution_count": 26,
   "metadata": {},
   "outputs": [
    {
     "data": {
      "text/html": [
       "<div>\n",
       "<style scoped>\n",
       "    .dataframe tbody tr th:only-of-type {\n",
       "        vertical-align: middle;\n",
       "    }\n",
       "\n",
       "    .dataframe tbody tr th {\n",
       "        vertical-align: top;\n",
       "    }\n",
       "\n",
       "    .dataframe thead th {\n",
       "        text-align: right;\n",
       "    }\n",
       "</style>\n",
       "<table border=\"1\" class=\"dataframe\">\n",
       "  <thead>\n",
       "    <tr style=\"text-align: right;\">\n",
       "      <th></th>\n",
       "      <th>grp</th>\n",
       "      <th>rev</th>\n",
       "      <th>student_id</th>\n",
       "      <th>buyer_quantity</th>\n",
       "      <th>CR</th>\n",
       "      <th>ARPU</th>\n",
       "      <th>ARPPU_AOV</th>\n",
       "    </tr>\n",
       "  </thead>\n",
       "  <tbody>\n",
       "    <tr>\n",
       "      <th>0</th>\n",
       "      <td>A</td>\n",
       "      <td>72820.0</td>\n",
       "      <td>1538</td>\n",
       "      <td>78</td>\n",
       "      <td>0.051</td>\n",
       "      <td>47.35</td>\n",
       "      <td>933.59</td>\n",
       "    </tr>\n",
       "    <tr>\n",
       "      <th>1</th>\n",
       "      <td>B</td>\n",
       "      <td>394974.0</td>\n",
       "      <td>6803</td>\n",
       "      <td>314</td>\n",
       "      <td>0.046</td>\n",
       "      <td>58.06</td>\n",
       "      <td>1257.88</td>\n",
       "    </tr>\n",
       "  </tbody>\n",
       "</table>\n",
       "</div>"
      ],
      "text/plain": [
       "  grp       rev  student_id  buyer_quantity     CR   ARPU  ARPPU_AOV\n",
       "0   A   72820.0        1538              78  0.051  47.35     933.59\n",
       "1   B  394974.0        6803             314  0.046  58.06    1257.88"
      ]
     },
     "execution_count": 26,
     "metadata": {},
     "output_type": "execute_result"
    }
   ],
   "source": [
    "df_metrics"
   ]
  },
  {
   "cell_type": "markdown",
   "metadata": {},
   "source": [
    "Начнем с теcтирования CR в покупку\n",
    "Исследуем CR:\n",
    "- H0: При внедрении новой механики оплаты конверсия в покупку не изменится\n",
    "- H1: при внедрении новой механики изменится конверсия в покупку\n",
    "\n",
    "Для анализа будем использовать критерий независимости хи-квадрат — используется для определения наличия значимой связи между двумя категориальными переменными. Xи-квадрат подходит для использования при работе с категориальными переменными."
   ]
  },
  {
   "cell_type": "code",
   "execution_count": 27,
   "metadata": {},
   "outputs": [
    {
     "data": {
      "text/plain": [
       "0.48625240457231045"
      ]
     },
     "execution_count": 27,
     "metadata": {},
     "output_type": "execute_result"
    }
   ],
   "source": [
    "# Добавим данные о количестве некупивших для применения Xи-квадрат\n",
    "df_metrics['no_buyers'] = df_metrics['student_id'] - df_metrics['buyer_quantity']\n",
    "# тест хи-квадрат\n",
    "chi2, pvalue, k, _ = ss.chi2_contingency(df_metrics[['no_buyers','buyer_quantity']].values)\n",
    "critical = ss.chi2.ppf(0.95, k)\n",
    "pvalue"
   ]
  },
  {
   "cell_type": "markdown",
   "metadata": {},
   "source": [
    "Значение p-value не позволяет нам отклонить нулеую гипотезу.\n",
    "\n",
    "Исследуем чеки, посмотрим расспределение чеков. Также ARPU и ARPPU отличаются у данных групп. Посмотрим на график, и выберем метод тестирования"
   ]
  },
  {
   "cell_type": "code",
   "execution_count": 28,
   "metadata": {},
   "outputs": [
    {
     "data": {
      "image/png": "[encoded data removed]",
      "text/plain": [
       "<Figure size 1040x640 with 1 Axes>"
      ]
     },
     "metadata": {
      "needs_background": "light"
     },
     "output_type": "display_data"
    }
   ],
   "source": [
    "# Данные для график\n",
    "date_hist = df_students_active_with_checks.query('rev != 0.0')\n",
    "# Распределение чека среди тех кто платил по группам\n",
    "plt.figure(figsize=(13,8), dpi= 80)\n",
    "sns.set_palette(sns.color_palette('Set2', 2))\n",
    "ax = sns.histplot(date_hist, x='rev', kde=False, bins=15, hue='grp', multiple='layer')\n",
    "ax.set_xlabel('Сумма чека')\n",
    "ax.set_ylabel('Количество покупателей')\n",
    "plt.ylim(0, 150)\n",
    "\n",
    "plt.title('График суммы чеков среди покупателей', fontsize=22)\n",
    "plt.show()"
   ]
  },
  {
   "cell_type": "markdown",
   "metadata": {},
   "source": [
    "Далее исследуем группы на ARPU_AOV. Данная метрика для нас наиболее актуальна, на графике мы видим существенные различия в данном показателе между группами. Также на графике мы видим, что распределение не нормальное. \n",
    "\n",
    "Можно логарифмировать наши данные, но это приведет к проблемам в понимании для бизнеса. И поэтому же не будем использовать непараметрический U-критерий Манна — Уитни.\n",
    "\n",
    "Тогда посмотрим в сторону t-критерия Стьюдента. \"На самом деле требование к нормальности есть, но не к данным, а к среднему. Среднее значение метрики должно иметь нормальное распределение\" - из данного высказывания можем сделать вывод, что t-критерия Стьюдента можно использовать на данном распределении.\n",
    "\n",
    "Размер наших выборок разный: 1538 и 6803. Как понял после прочтения большого количества источников, это не повлияет на результат как при ttest так и при bootstrap.\n",
    "\n",
    "Сформулируем гипотезы:\n",
    "- H0: Средний чек(ARPPU_AOV) не имеет значимых различий в контрольной группе и в целевой\n",
    "- H1: Средний чек(ARPPU_AOV) имеет значимые различия"
   ]
  },
  {
   "cell_type": "code",
   "execution_count": 29,
   "metadata": {},
   "outputs": [],
   "source": [
    "# Разобьем на группы\n",
    "df_boots = df_students_active_with_checks.query('rev != 0.0')[['rev','grp']].reset_index(drop=True)\n",
    "df_boots['rev'] = df_boots['rev'].round(2)\n",
    "df_group_A = df_boots.query('grp==\"A\"')\n",
    "df_group_B = df_boots.query('grp==\"B\"')"
   ]
  },
  {
   "cell_type": "code",
   "execution_count": 30,
   "metadata": {},
   "outputs": [
    {
     "name": "stdout",
     "output_type": "stream",
     "text": [
      "P-value = 0.0019\n"
     ]
    }
   ],
   "source": [
    "ruselt_ttest = ss.ttest_ind(df_group_A['rev'], df_group_B['rev'])\n",
    "print(f'P-value = {ruselt_ttest.pvalue:0.4f}')"
   ]
  },
  {
   "cell_type": "markdown",
   "metadata": {},
   "source": [
    "По проведенному тесту гипотезу H0 - отвергаем\n",
    "\n",
    "Далее проведем бутстрап по данной же метрике, для повторной проверки"
   ]
  },
  {
   "cell_type": "code",
   "execution_count": 31,
   "metadata": {},
   "outputs": [
    {
     "name": "stdout",
     "output_type": "stream",
     "text": [
      "Значение 95% квантиля изменилось на: -930.00\n",
      "95.0% доверительный интервал: (-1468.54, -796.45)\n",
      "Отличия статистически значимые: True\n"
     ]
    }
   ],
   "source": [
    "#Размер начальной выборки\n",
    "raz_start = 1000 \n",
    "#Количество подвыборок\n",
    "raz_start_n = 10000\n",
    "# уровень значимости\n",
    "alpha = 0.05\n",
    "\n",
    "#Разница квантилей\n",
    "pe = np.quantile(df_group_B.rev, 0.95) - np.quantile(df_group_A.rev, 0.95)\n",
    "# Бутстрап значений первой группы\n",
    "bootstrap_values_a = np.random.choice(df_group_A.rev, (raz_start_n, raz_start), True)\n",
    "# Бутстреп \n",
    "bootstrap_metrics_a = np.quantile(bootstrap_values_a, 0.95, axis=1)\n",
    "# Бутстрап значений второй группы\n",
    "bootstrap_values_b = np.random.choice(df_group_B.rev, (raz_start_n, raz_start), True)\n",
    "bootstrap_metrics_b = np.quantile(bootstrap_values_b, 0.95, axis=1)\n",
    "# Отражаем разницу интервалов между второй и первой группой\n",
    "bootstrap_stats = bootstrap_metrics_b - bootstrap_metrics_a\n",
    "# Строим перцентильный доверительный интервал\n",
    "ci = np.quantile(bootstrap_stats, [alpha / 2, 1 - alpha / 2])\n",
    "# Проверяем значимость статистических данных, если в ноль не попадает то значения значимы\n",
    "znach = not (ci[0] < 0 < ci[1])\n",
    "\n",
    "print(f'Значение 95% квантиля изменилось на: {pe:0.2f}')\n",
    "print(f'{((1 - alpha) * 100)}% доверительный интервал: ({ci[0]:0.2f}, {ci[1]:0.2f})')\n",
    "print(f'Отличия статистически значимые: {znach}')"
   ]
  },
  {
   "cell_type": "markdown",
   "metadata": {},
   "source": [
    "Гипотеза H0: Средний чек(ARPPU_AOV) не имеет значимых различий в контрольной группе и в целевой - отвергается\n",
    "\n",
    "На полученных данных мы видим, что у второй, тестовой группы, нижняя и верхние границы больше чем у контрольной группы. Отличия статистически значимы.\n",
    "\n",
    "По A/B тестирование можно сделать следующие выводы:\n",
    "    - Использованны метрики СR, ARPPU_AOV, ARPU(По данному пункту тесты не проводились, в его тестах не вижу необходимости)\n",
    "    - CR не показал статистически значимых изменений между контрольной и тестовой группой\n",
    "    - ARPPU показал статистически значимые изменения, в тестовой группе люди платили больше и делали это стабильнее.\n",
    "Новою механику оплаты СТОИТ применять на всех пользователей. Она никак не повлияла на количество переходов в покупку, но повысила средний чек, сделав его стабильнее."
   ]
  },
  {
   "cell_type": "markdown",
   "metadata": {},
   "source": [
    "# 2.Задачи SQL"
   ]
  },
  {
   "cell_type": "markdown",
   "metadata": {},
   "source": [
    "Образовательные курсы состоят из различных уроков, каждый из которых состоит из нескольких маленьких заданий. Каждое такое маленькое задание называется \"горошиной\".\n",
    "Назовём очень усердным учеником того пользователя, который хотя бы раз за текущий месяц правильно решил 20 горошин."
   ]
  },
  {
   "cell_type": "code",
   "execution_count": 32,
   "metadata": {},
   "outputs": [],
   "source": [
    "#Задаем найстройки сервера\n",
    "connection_default = {'host': 'https://clickhouse.lab.karpov.courses',\n",
    "                      'database':'default',\n",
    "                      'user':'student', \n",
    "                      'password':'dpo_python_2020'\n",
    "                     }"
   ]
  },
  {
   "cell_type": "code",
   "execution_count": 41,
   "metadata": {},
   "outputs": [],
   "source": [
    "quer = \"\"\"\n",
    "    SELECT \n",
    "        count(DISTINCT st_id) AS active_unique\n",
    "    FROM (SELECT \n",
    "        st_id,\n",
    "        subject,\n",
    "        toMonth(timest) as month_,\n",
    "        sum(correct) as ball\n",
    "    FROM default.peas\n",
    "    GROUP BY st_id, subject,month_\n",
    "    HAVING ball>19 and month_= 10) as final\"\"\""
   ]
  },
  {
   "cell_type": "code",
   "execution_count": 42,
   "metadata": {},
   "outputs": [
    {
     "data": {
      "text/html": [
       "<div>\n",
       "<style scoped>\n",
       "    .dataframe tbody tr th:only-of-type {\n",
       "        vertical-align: middle;\n",
       "    }\n",
       "\n",
       "    .dataframe tbody tr th {\n",
       "        vertical-align: top;\n",
       "    }\n",
       "\n",
       "    .dataframe thead th {\n",
       "        text-align: right;\n",
       "    }\n",
       "</style>\n",
       "<table border=\"1\" class=\"dataframe\">\n",
       "  <thead>\n",
       "    <tr style=\"text-align: right;\">\n",
       "      <th></th>\n",
       "      <th>active_unique</th>\n",
       "    </tr>\n",
       "  </thead>\n",
       "  <tbody>\n",
       "    <tr>\n",
       "      <th>0</th>\n",
       "      <td>78</td>\n",
       "    </tr>\n",
       "  </tbody>\n",
       "</table>\n",
       "</div>"
      ],
      "text/plain": [
       "   active_unique\n",
       "0             78"
      ]
     },
     "execution_count": 42,
     "metadata": {},
     "output_type": "execute_result"
    }
   ],
   "source": [
    "quer_default = ph.read_clickhouse(query=quer, connection = connection_default)\n",
    "quer_default"
   ]
  },
  {
   "cell_type": "markdown",
   "metadata": {},
   "source": [
    "Образовательная платформа предлагает пройти студентам курсы по модели trial: студент может решить бесплатно лишь 30 горошин в день. Для неограниченного количества заданий в определенной дисциплине студенту необходимо приобрести полный доступ. Команда провела эксперимент, где был протестирован новый экран оплаты."
   ]
  },
  {
   "cell_type": "code",
   "execution_count": 35,
   "metadata": {},
   "outputs": [],
   "source": [
    "quer_second = \"\"\"\n",
    "    SELECT \n",
    "        s.test_grp,\n",
    "        round(sum(money)/count(s.st_id),2) AS ARPU,\n",
    "        round(count(CASE WHEN money !=0 THEN 1 END)/count(s.st_id),3) AS CR,\n",
    "        round(sum(CASE WHEN ball != 0 THEN money END)/count(CASE WHEN ball != 0 THEN 1 END),2) AS ARPAU,\n",
    "        round(count(CASE WHEN money !=0 and ball != 0 THEN 1 END)/count(CASE WHEN ball != 0 THEN 1 END),3) AS CR_b,\n",
    "        round(count(CASE WHEN money !=0 and ball_math != 0 THEN 1 END)/count(CASE WHEN ball_math != 0 THEN 1 END),3) AS CR_math\n",
    "    FROM default.studs as s\n",
    "    LEFT JOIN default.final_project_check as fp\n",
    "    ON s.st_id=fp.st_id\n",
    "    LEFT JOIN \n",
    "            (\n",
    "            SELECT DISTINCT active.st_id, sum(ball) AS ball\n",
    "            FROM(\n",
    "                SELECT st_id, subject, toMonth(timest) as month_,sum(correct) as ball\n",
    "                FROM default.peas\n",
    "                GROUP BY st_id, subject, month_\n",
    "                HAVING ball>10 and month_=10\n",
    "                ) as active\n",
    "            GROUP BY active.st_id\n",
    "            ) as active_students\n",
    "    ON s.st_id = active_students.st_id\n",
    "    LEFT JOIN\n",
    "            (\n",
    "            SELECT DISTINCT active_2.st_id, sum(ball) AS ball_math\n",
    "            FROM\n",
    "                (SELECT st_id, subject, toMonth(timest) as month_, sum(correct) as ball\n",
    "                FROM default.peas\n",
    "                GROUP BY st_id, subject, month_\n",
    "                HAVING \n",
    "                    subject = 'Math'\n",
    "                    and ball>=2\n",
    "                    and month_=10\n",
    "                ) as active_2\n",
    "            GROUP BY active_2.st_id\n",
    "            ) as active_math\n",
    "    ON s.st_id = active_math.st_id\n",
    "    GROUP BY test_grp\"\"\""
   ]
  },
  {
   "cell_type": "code",
   "execution_count": 36,
   "metadata": {},
   "outputs": [
    {
     "data": {
      "text/html": [
       "<div>\n",
       "<style scoped>\n",
       "    .dataframe tbody tr th:only-of-type {\n",
       "        vertical-align: middle;\n",
       "    }\n",
       "\n",
       "    .dataframe tbody tr th {\n",
       "        vertical-align: top;\n",
       "    }\n",
       "\n",
       "    .dataframe thead th {\n",
       "        text-align: right;\n",
       "    }\n",
       "</style>\n",
       "<table border=\"1\" class=\"dataframe\">\n",
       "  <thead>\n",
       "    <tr style=\"text-align: right;\">\n",
       "      <th></th>\n",
       "      <th>s.test_grp</th>\n",
       "      <th>ARPU</th>\n",
       "      <th>CR</th>\n",
       "      <th>ARPAU</th>\n",
       "      <th>CR_b</th>\n",
       "      <th>CR_math</th>\n",
       "    </tr>\n",
       "  </thead>\n",
       "  <tbody>\n",
       "    <tr>\n",
       "      <th>0</th>\n",
       "      <td>control</td>\n",
       "      <td>4496.75</td>\n",
       "      <td>0.058</td>\n",
       "      <td>9708.33</td>\n",
       "      <td>0.125</td>\n",
       "      <td>0.120</td>\n",
       "    </tr>\n",
       "    <tr>\n",
       "      <th>1</th>\n",
       "      <td>pilot</td>\n",
       "      <td>11094.77</td>\n",
       "      <td>0.141</td>\n",
       "      <td>24484.54</td>\n",
       "      <td>0.299</td>\n",
       "      <td>0.217</td>\n",
       "    </tr>\n",
       "  </tbody>\n",
       "</table>\n",
       "</div>"
      ],
      "text/plain": [
       "  s.test_grp      ARPU     CR     ARPAU   CR_b  CR_math\n",
       "0    control   4496.75  0.058   9708.33  0.125    0.120\n",
       "1      pilot  11094.77  0.141  24484.54  0.299    0.217"
      ]
     },
     "execution_count": 36,
     "metadata": {},
     "output_type": "execute_result"
    }
   ],
   "source": [
    "quer_default_second = ph.read_clickhouse(query=quer_second, connection = connection_default)\n",
    "quer_default_second"
   ]
  },
  {
   "cell_type": "markdown",
   "metadata": {},
   "source": [
    "# 3.Реализация функции на автоматическую выгрузку"
   ]
  },
  {
   "cell_type": "markdown",
   "metadata": {},
   "source": [
    "1.Реализуйте функцию, которая будет автоматически подгружать информацию из дополнительного файла groups_add.csv (заголовки могут отличаться) и на основании дополнительных параметров пересчитывать метрики."
   ]
  },
  {
   "cell_type": "code",
   "execution_count": 37,
   "metadata": {},
   "outputs": [],
   "source": [
    "def give_metrics(public_key_first_df, public_key_second_df, public_key_third_df, public_key_fourth_df):\n",
    "    \"\"\" Напишем функциию на автоматическую выгрузку метрик \n",
    "    На вход получаем ссылки на файлы\n",
    "    Выводим метрики CR, ARPU, ARPPU, можем добавить и любые другие\"\"\"\n",
    "    # Загрузим данные\n",
    "    public_key_1 = 'https://disk.yandex.ru/d/UhyYx41rTt3clQ'\n",
    "    public_key_2 = 'https://disk.yandex.ru/d/5Kxrz02m3IBUwQ'\n",
    "    public_key_3 = 'https://disk.yandex.ru/d/Tbs44Bm6H_FwFQ'\n",
    "    public_key_4 = 'https://disk.yandex.ru/d/pH1q-VqcxXjsVA'\n",
    "    base_url = 'https://cloud-api.yandex.net/v1/disk/public/resources/download?'\n",
    "\n",
    "    final_url = base_url + urllib.parse.urlencode(dict(public_key=public_key_first_df))\n",
    "    response_active = requests.get(final_url)\n",
    "    download_url = response_active.json()['href']\n",
    "    df_groups = pd.read_csv(download_url,sep=';')\n",
    "\n",
    "    final_url = base_url + urllib.parse.urlencode(dict(public_key=public_key_second_df))\n",
    "    response_active = requests.get(final_url)\n",
    "    download_url = response_active.json()['href']\n",
    "    df_groups_add = pd.read_csv(download_url)\n",
    "\n",
    "    final_url = base_url + urllib.parse.urlencode(dict(public_key=public_key_third_df))\n",
    "    response_active = requests.get(final_url)\n",
    "    download_url = response_active.json()['href']\n",
    "    df_active_studa = pd.read_csv(download_url)\n",
    "\n",
    "    final_url = base_url + urllib.parse.urlencode(dict(public_key=public_key_fourth_df))\n",
    "    response_active = requests.get(final_url)\n",
    "    download_url = response_active.json()['href']\n",
    "    df_checks = pd.read_csv(download_url,sep=';')\n",
    "    # Заголовки могут отличаться, исправим\n",
    "    df_groups_add.rename(columns=({df_groups_add.columns[0]: 'student_id', df_groups_add.columns[1]: 'grp'}), inplace=True)\n",
    "    df_groups = df_groups.rename(columns={'id':'student_id'})\n",
    "\n",
    "    # Соединяем группы\n",
    "    df_all_users_groups = pd.concat([df_groups_add,df_groups])\n",
    "    # Проверим на пустые значения автоматически, удалим, если что\n",
    "    if df_all_users_groups.grp.isnull().sum() != 0:\n",
    "        df_all_users_groups = df_all_users_groups.dropna()\n",
    "\n",
    "    # Все участники эксперимента получили свою группу\n",
    "    df_students_active_with_groups = df_active_studa.merge(df_all_users_groups, on='student_id', how='inner')\n",
    "    # Объедим с чеками\n",
    "    df_students_active_with_checks = df_students_active_with_groups.merge(df_checks,on='student_id',how='left')\n",
    "    # df_students_active_with_checks.query('rev.isnull() == False').shape\n",
    "    # 392 чека попали в активную группу\n",
    "    # Заполним пустые значения и перейдем с готовым датафреймом к метрикам\n",
    "    df_students_active_with_checks = df_students_active_with_checks.fillna(0)\n",
    "    # Посчитаем сколько всего пользователей в группе и общий доход каждой группы\n",
    "    df_metrics = df_students_active_with_checks.groupby('grp', as_index=False).agg({'rev':'sum', 'student_id':'count'}).round(0)\n",
    "    # Сколько человек совершили покупку\n",
    "    df_metrics['buyer_quantity'] = df_students_active_with_checks.query('rev != 0.0')\\\n",
    "                                   .groupby('grp', as_index=False).agg({'student_id':'count'})['student_id']\n",
    "    # Посчитаем CR\n",
    "    df_metrics['CR'] = (df_metrics['buyer_quantity']/df_metrics['student_id']).round(3)\n",
    "    # Посчитаем ARPU и ARPPU\n",
    "    df_metrics['ARPU'] = (df_metrics['rev']/df_metrics['student_id']).round(2)\n",
    "    df_metrics['ARPPU_AOV'] = (df_metrics['rev']/df_metrics['buyer_quantity']).round(2)\n",
    "    # Сделаем наш отчет для каждого, а не только для нас\n",
    "    df_metrics = df_metrics.rename(columns={'grp':'Группа',\n",
    "                                            'rev':'Cумма чеков',\n",
    "                                            'student_id':'Размер групп',\n",
    "                                            'buyer_quantity':'Количество покупателей'})\n",
    "    df_metrics.reset_index(inplace=False)\n",
    "    return df_metrics"
   ]
  },
  {
   "cell_type": "code",
   "execution_count": 38,
   "metadata": {},
   "outputs": [
    {
     "data": {
      "text/html": [
       "<div>\n",
       "<style scoped>\n",
       "    .dataframe tbody tr th:only-of-type {\n",
       "        vertical-align: middle;\n",
       "    }\n",
       "\n",
       "    .dataframe tbody tr th {\n",
       "        vertical-align: top;\n",
       "    }\n",
       "\n",
       "    .dataframe thead th {\n",
       "        text-align: right;\n",
       "    }\n",
       "</style>\n",
       "<table border=\"1\" class=\"dataframe\">\n",
       "  <thead>\n",
       "    <tr style=\"text-align: right;\">\n",
       "      <th></th>\n",
       "      <th>Группа</th>\n",
       "      <th>Cумма чеков</th>\n",
       "      <th>Размер групп</th>\n",
       "      <th>Количество покупателей</th>\n",
       "      <th>CR</th>\n",
       "      <th>ARPU</th>\n",
       "      <th>ARPPU_AOV</th>\n",
       "    </tr>\n",
       "  </thead>\n",
       "  <tbody>\n",
       "    <tr>\n",
       "      <th>0</th>\n",
       "      <td>A</td>\n",
       "      <td>72820.0</td>\n",
       "      <td>1538</td>\n",
       "      <td>78</td>\n",
       "      <td>0.051</td>\n",
       "      <td>47.35</td>\n",
       "      <td>933.59</td>\n",
       "    </tr>\n",
       "    <tr>\n",
       "      <th>1</th>\n",
       "      <td>B</td>\n",
       "      <td>394974.0</td>\n",
       "      <td>6803</td>\n",
       "      <td>314</td>\n",
       "      <td>0.046</td>\n",
       "      <td>58.06</td>\n",
       "      <td>1257.88</td>\n",
       "    </tr>\n",
       "  </tbody>\n",
       "</table>\n",
       "</div>"
      ],
      "text/plain": [
       "  Группа  Cумма чеков  Размер групп  Количество покупателей     CR   ARPU  \\\n",
       "0      A      72820.0          1538                      78  0.051  47.35   \n",
       "1      B     394974.0          6803                     314  0.046  58.06   \n",
       "\n",
       "   ARPPU_AOV  \n",
       "0     933.59  \n",
       "1    1257.88  "
      ]
     },
     "execution_count": 38,
     "metadata": {},
     "output_type": "execute_result"
    }
   ],
   "source": [
    "metrics = give_metrics('https://disk.yandex.ru/d/UhyYx41rTt3clQ',\n",
    "                       'https://disk.yandex.ru/d/5Kxrz02m3IBUwQ',\n",
    "                       'https://disk.yandex.ru/d/Tbs44Bm6H_FwFQ',\n",
    "                       'https://disk.yandex.ru/d/pH1q-VqcxXjsVA')\n",
    "metrics"
   ]
  },
  {
   "cell_type": "markdown",
   "metadata": {},
   "source": [
    "2.Реализуйте функцию, которая будет строить графики по получаемым метрикам."
   ]
  },
  {
   "cell_type": "code",
   "execution_count": 39,
   "metadata": {},
   "outputs": [],
   "source": [
    "def get_visualisation(metrics):\n",
    "    \"\"\"Построим графики по полученным метрикам\"\"\"\n",
    "    plt.figure(figsize=(23, 7))\n",
    "    plt.suptitle('1 x 4 barplot for metrics')\n",
    "    sns.set_palette(sns.color_palette('Set2', 2))\n",
    "    plt.subplot(1, 4, 1)\n",
    "    sns.barplot(x='Группа', y='Размер групп', data=metrics)\n",
    "    plt.subplot(1, 4, 2)\n",
    "    sns.barplot(x='Группа', y='CR', data=metrics)\n",
    "    plt.subplot(1, 4, 3)\n",
    "    sns.barplot(x='Группа', y='ARPU', data=metrics)\n",
    "    plt.subplot(1, 4, 4)\n",
    "    sns.barplot(x='Группа', y='ARPPU_AOV', data=metrics)"
   ]
  },
  {
   "cell_type": "code",
   "execution_count": 40,
   "metadata": {
    "scrolled": false
   },
   "outputs": [
    {
     "data": {
      "image/png": "[encoded data removed]",
      "text/plain": [
       "<Figure size 1656x504 with 4 Axes>"
      ]
     },
     "metadata": {
      "needs_background": "light"
     },
     "output_type": "display_data"
    }
   ],
   "source": [
    "get_visualisation(metrics)"
   ]
  }
 ],
 "metadata": {
  "kernelspec": {
   "display_name": "Python 3",
   "language": "python",
   "name": "python3"
  },
  "language_info": {
   "codemirror_mode": {
    "name": "ipython",
    "version": 3
   },
   "file_extension": ".py",
   "mimetype": "text/x-python",
   "name": "python",
   "nbconvert_exporter": "python",
   "pygments_lexer": "ipython3",
   "version": "3.7.3"
  }
 },
 "nbformat": 4,
 "nbformat_minor": 4
}
