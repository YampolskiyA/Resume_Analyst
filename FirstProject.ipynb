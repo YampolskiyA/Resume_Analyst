{
 "cells": [
  {
   "cell_type": "code",
   "execution_count": 2,
   "metadata": {},
   "outputs": [],
   "source": [
    "import pandas as pd\n",
    "import datetime\n",
    "import time\n",
    "import numpy as np\n",
    "from operator import attrgetter"
   ]
  },
  {
   "cell_type": "code",
   "execution_count": 20,
   "metadata": {},
   "outputs": [],
   "source": [
    "# Создаем все df\n",
    "df_customers = pd.read_csv('olist_customers_dataset.csv', encoding='UTF-8', sep=',')\n",
    "df_order = pd.read_csv('olist_orders_dataset.csv', encoding='UTF-8',sep=',')\n",
    "df_items = pd.read_csv('olist_order_items_dataset.csv',encoding='UTF-8', sep=',')"
   ]
  },
  {
   "cell_type": "markdown",
   "metadata": {},
   "source": [
    "0.Для решения задачи проведи предварительное исследование данных и сформулируй, что должно считаться покупкой. Обосновать свой выбор ты можешь с помощью фактов оплат, статусов заказов и других имеющихся данных"
   ]
  },
  {
   "cell_type": "code",
   "execution_count": 4,
   "metadata": {},
   "outputs": [
    {
     "data": {
      "text/plain": [
       "(99441, 8)"
      ]
     },
     "execution_count": 4,
     "metadata": {},
     "output_type": "execute_result"
    }
   ],
   "source": [
    "# Посмотрим на обьем\n",
    "df_order.shape"
   ]
  },
  {
   "cell_type": "code",
   "execution_count": 5,
   "metadata": {},
   "outputs": [
    {
     "data": {
      "text/plain": [
       "order_id                         object\n",
       "customer_id                      object\n",
       "order_status                     object\n",
       "order_purchase_timestamp         object\n",
       "order_approved_at                object\n",
       "order_delivered_carrier_date     object\n",
       "order_delivered_customer_date    object\n",
       "order_estimated_delivery_date    object\n",
       "dtype: object"
      ]
     },
     "execution_count": 5,
     "metadata": {},
     "output_type": "execute_result"
    }
   ],
   "source": [
    "# Посмотрим на типы\n",
    "df_order.dtypes"
   ]
  },
  {
   "cell_type": "code",
   "execution_count": 6,
   "metadata": {},
   "outputs": [
    {
     "data": {
      "text/plain": [
       "order_id                            0\n",
       "customer_id                         0\n",
       "order_status                        0\n",
       "order_purchase_timestamp            0\n",
       "order_approved_at                 160\n",
       "order_delivered_carrier_date     1783\n",
       "order_delivered_customer_date    2965\n",
       "order_estimated_delivery_date       0\n",
       "dtype: int64"
      ]
     },
     "execution_count": 6,
     "metadata": {},
     "output_type": "execute_result"
    }
   ],
   "source": [
    "# Помотрим пустые значения\n",
    "df_order.isna().sum()"
   ]
  },
  {
   "cell_type": "code",
   "execution_count": 7,
   "metadata": {},
   "outputs": [
    {
     "data": {
      "text/html": [
       "<div>\n",
       "<style scoped>\n",
       "    .dataframe tbody tr th:only-of-type {\n",
       "        vertical-align: middle;\n",
       "    }\n",
       "\n",
       "    .dataframe tbody tr th {\n",
       "        vertical-align: top;\n",
       "    }\n",
       "\n",
       "    .dataframe thead th {\n",
       "        text-align: right;\n",
       "    }\n",
       "</style>\n",
       "<table border=\"1\" class=\"dataframe\">\n",
       "  <thead>\n",
       "    <tr style=\"text-align: right;\">\n",
       "      <th></th>\n",
       "      <th>order_id</th>\n",
       "      <th>customer_id</th>\n",
       "      <th>order_status</th>\n",
       "      <th>order_purchase_timestamp</th>\n",
       "      <th>order_approved_at</th>\n",
       "      <th>order_delivered_carrier_date</th>\n",
       "      <th>order_delivered_customer_date</th>\n",
       "      <th>order_estimated_delivery_date</th>\n",
       "    </tr>\n",
       "  </thead>\n",
       "  <tbody>\n",
       "    <tr>\n",
       "      <th>0</th>\n",
       "      <td>e481f51cbdc54678b7cc49136f2d6af7</td>\n",
       "      <td>9ef432eb6251297304e76186b10a928d</td>\n",
       "      <td>delivered</td>\n",
       "      <td>2017-10-02 10:56:33</td>\n",
       "      <td>2017-10-02 11:07:15</td>\n",
       "      <td>2017-10-04 19:55:00</td>\n",
       "      <td>2017-10-10 21:25:13</td>\n",
       "      <td>2017-10-18 00:00:00</td>\n",
       "    </tr>\n",
       "    <tr>\n",
       "      <th>1</th>\n",
       "      <td>53cdb2fc8bc7dce0b6741e2150273451</td>\n",
       "      <td>b0830fb4747a6c6d20dea0b8c802d7ef</td>\n",
       "      <td>delivered</td>\n",
       "      <td>2018-07-24 20:41:37</td>\n",
       "      <td>2018-07-26 03:24:27</td>\n",
       "      <td>2018-07-26 14:31:00</td>\n",
       "      <td>2018-08-07 15:27:45</td>\n",
       "      <td>2018-08-13 00:00:00</td>\n",
       "    </tr>\n",
       "    <tr>\n",
       "      <th>2</th>\n",
       "      <td>47770eb9100c2d0c44946d9cf07ec65d</td>\n",
       "      <td>41ce2a54c0b03bf3443c3d931a367089</td>\n",
       "      <td>delivered</td>\n",
       "      <td>2018-08-08 08:38:49</td>\n",
       "      <td>2018-08-08 08:55:23</td>\n",
       "      <td>2018-08-08 13:50:00</td>\n",
       "      <td>2018-08-17 18:06:29</td>\n",
       "      <td>2018-09-04 00:00:00</td>\n",
       "    </tr>\n",
       "    <tr>\n",
       "      <th>3</th>\n",
       "      <td>949d5b44dbf5de918fe9c16f97b45f8a</td>\n",
       "      <td>f88197465ea7920adcdbec7375364d82</td>\n",
       "      <td>delivered</td>\n",
       "      <td>2017-11-18 19:28:06</td>\n",
       "      <td>2017-11-18 19:45:59</td>\n",
       "      <td>2017-11-22 13:39:59</td>\n",
       "      <td>2017-12-02 00:28:42</td>\n",
       "      <td>2017-12-15 00:00:00</td>\n",
       "    </tr>\n",
       "    <tr>\n",
       "      <th>4</th>\n",
       "      <td>ad21c59c0840e6cb83a9ceb5573f8159</td>\n",
       "      <td>8ab97904e6daea8866dbdbc4fb7aad2c</td>\n",
       "      <td>delivered</td>\n",
       "      <td>2018-02-13 21:18:39</td>\n",
       "      <td>2018-02-13 22:20:29</td>\n",
       "      <td>2018-02-14 19:46:34</td>\n",
       "      <td>2018-02-16 18:17:02</td>\n",
       "      <td>2018-02-26 00:00:00</td>\n",
       "    </tr>\n",
       "  </tbody>\n",
       "</table>\n",
       "</div>"
      ],
      "text/plain": [
       "                           order_id                       customer_id  \\\n",
       "0  e481f51cbdc54678b7cc49136f2d6af7  9ef432eb6251297304e76186b10a928d   \n",
       "1  53cdb2fc8bc7dce0b6741e2150273451  b0830fb4747a6c6d20dea0b8c802d7ef   \n",
       "2  47770eb9100c2d0c44946d9cf07ec65d  41ce2a54c0b03bf3443c3d931a367089   \n",
       "3  949d5b44dbf5de918fe9c16f97b45f8a  f88197465ea7920adcdbec7375364d82   \n",
       "4  ad21c59c0840e6cb83a9ceb5573f8159  8ab97904e6daea8866dbdbc4fb7aad2c   \n",
       "\n",
       "  order_status order_purchase_timestamp    order_approved_at  \\\n",
       "0    delivered      2017-10-02 10:56:33  2017-10-02 11:07:15   \n",
       "1    delivered      2018-07-24 20:41:37  2018-07-26 03:24:27   \n",
       "2    delivered      2018-08-08 08:38:49  2018-08-08 08:55:23   \n",
       "3    delivered      2017-11-18 19:28:06  2017-11-18 19:45:59   \n",
       "4    delivered      2018-02-13 21:18:39  2018-02-13 22:20:29   \n",
       "\n",
       "  order_delivered_carrier_date order_delivered_customer_date  \\\n",
       "0          2017-10-04 19:55:00           2017-10-10 21:25:13   \n",
       "1          2018-07-26 14:31:00           2018-08-07 15:27:45   \n",
       "2          2018-08-08 13:50:00           2018-08-17 18:06:29   \n",
       "3          2017-11-22 13:39:59           2017-12-02 00:28:42   \n",
       "4          2018-02-14 19:46:34           2018-02-16 18:17:02   \n",
       "\n",
       "  order_estimated_delivery_date  \n",
       "0           2017-10-18 00:00:00  \n",
       "1           2018-08-13 00:00:00  \n",
       "2           2018-09-04 00:00:00  \n",
       "3           2017-12-15 00:00:00  \n",
       "4           2018-02-26 00:00:00  "
      ]
     },
     "execution_count": 7,
     "metadata": {},
     "output_type": "execute_result"
    }
   ],
   "source": [
    "# Просто посмотрим\n",
    "df_order.head()"
   ]
  },
  {
   "cell_type": "code",
   "execution_count": 8,
   "metadata": {},
   "outputs": [
    {
     "data": {
      "text/plain": [
       "order_status\n",
       "delivered      96478\n",
       "shipped         1107\n",
       "canceled         625\n",
       "unavailable      609\n",
       "invoiced         314\n",
       "processing       301\n",
       "created            5\n",
       "approved           2\n",
       "dtype: int64"
      ]
     },
     "execution_count": 8,
     "metadata": {},
     "output_type": "execute_result"
    }
   ],
   "source": [
    "# Посмотрим разбивку по статусам\n",
    "df_order.value_counts('order_status')"
   ]
  },
  {
   "cell_type": "code",
   "execution_count": 9,
   "metadata": {},
   "outputs": [
    {
     "data": {
      "text/html": [
       "<div>\n",
       "<style scoped>\n",
       "    .dataframe tbody tr th:only-of-type {\n",
       "        vertical-align: middle;\n",
       "    }\n",
       "\n",
       "    .dataframe tbody tr th {\n",
       "        vertical-align: top;\n",
       "    }\n",
       "\n",
       "    .dataframe thead th {\n",
       "        text-align: right;\n",
       "    }\n",
       "</style>\n",
       "<table border=\"1\" class=\"dataframe\">\n",
       "  <thead>\n",
       "    <tr style=\"text-align: right;\">\n",
       "      <th></th>\n",
       "      <th>order_id</th>\n",
       "      <th>customer_id</th>\n",
       "      <th>order_status</th>\n",
       "      <th>order_purchase_timestamp</th>\n",
       "      <th>order_approved_at</th>\n",
       "      <th>order_delivered_carrier_date</th>\n",
       "      <th>order_delivered_customer_date</th>\n",
       "      <th>order_estimated_delivery_date</th>\n",
       "    </tr>\n",
       "  </thead>\n",
       "  <tbody>\n",
       "    <tr>\n",
       "      <th>6</th>\n",
       "      <td>136cce7faa42fdb2cefd53fdc79a6098</td>\n",
       "      <td>ed0271e0b7da060a393796590e7b737a</td>\n",
       "      <td>invoiced</td>\n",
       "      <td>2017-04-11 12:22:08</td>\n",
       "      <td>2017-04-13 13:25:17</td>\n",
       "      <td>NaN</td>\n",
       "      <td>NaN</td>\n",
       "      <td>2017-05-09 00:00:00</td>\n",
       "    </tr>\n",
       "    <tr>\n",
       "      <th>103</th>\n",
       "      <td>0760a852e4e9d89eb77bf631eaaf1c84</td>\n",
       "      <td>d2a79636084590b7465af8ab374a8cf5</td>\n",
       "      <td>invoiced</td>\n",
       "      <td>2018-08-03 17:44:42</td>\n",
       "      <td>2018-08-07 06:15:14</td>\n",
       "      <td>NaN</td>\n",
       "      <td>NaN</td>\n",
       "      <td>2018-08-21 00:00:00</td>\n",
       "    </tr>\n",
       "    <tr>\n",
       "      <th>455</th>\n",
       "      <td>38b7efdf33dd5561f4f5d4f6e07b0414</td>\n",
       "      <td>021e84751ba0ead75b6d314a6ead88d9</td>\n",
       "      <td>invoiced</td>\n",
       "      <td>2017-08-01 18:17:41</td>\n",
       "      <td>2017-08-01 18:32:30</td>\n",
       "      <td>NaN</td>\n",
       "      <td>NaN</td>\n",
       "      <td>2017-08-28 00:00:00</td>\n",
       "    </tr>\n",
       "    <tr>\n",
       "      <th>1833</th>\n",
       "      <td>51b0dccc8596ce37a930dff2d63a10a2</td>\n",
       "      <td>31bf1057b00f14804278590bbac18b1b</td>\n",
       "      <td>invoiced</td>\n",
       "      <td>2017-05-05 22:34:48</td>\n",
       "      <td>2017-05-05 22:45:12</td>\n",
       "      <td>NaN</td>\n",
       "      <td>NaN</td>\n",
       "      <td>2017-06-06 00:00:00</td>\n",
       "    </tr>\n",
       "    <tr>\n",
       "      <th>2116</th>\n",
       "      <td>5504eaa5a86eb25fa666cf2e6b96c701</td>\n",
       "      <td>a30be38e1ed0ffb39b318bf1d15e98d9</td>\n",
       "      <td>invoiced</td>\n",
       "      <td>2017-11-29 08:33:06</td>\n",
       "      <td>2017-11-29 08:56:23</td>\n",
       "      <td>NaN</td>\n",
       "      <td>NaN</td>\n",
       "      <td>2017-12-20 00:00:00</td>\n",
       "    </tr>\n",
       "    <tr>\n",
       "      <th>...</th>\n",
       "      <td>...</td>\n",
       "      <td>...</td>\n",
       "      <td>...</td>\n",
       "      <td>...</td>\n",
       "      <td>...</td>\n",
       "      <td>...</td>\n",
       "      <td>...</td>\n",
       "      <td>...</td>\n",
       "    </tr>\n",
       "    <tr>\n",
       "      <th>98414</th>\n",
       "      <td>41ad2ae32ee66c07ef3b0301ba02ad27</td>\n",
       "      <td>5c7f8d14a0a12198d1d07167d7d343b3</td>\n",
       "      <td>invoiced</td>\n",
       "      <td>2017-11-24 15:54:47</td>\n",
       "      <td>2017-11-24 19:33:24</td>\n",
       "      <td>NaN</td>\n",
       "      <td>NaN</td>\n",
       "      <td>2017-12-18 00:00:00</td>\n",
       "    </tr>\n",
       "    <tr>\n",
       "      <th>98624</th>\n",
       "      <td>9ffb325177b96c422447e3b9ee9a6270</td>\n",
       "      <td>e4079117ea0dc8bc27274e34c4796515</td>\n",
       "      <td>invoiced</td>\n",
       "      <td>2018-05-10 19:11:18</td>\n",
       "      <td>2018-05-10 19:37:27</td>\n",
       "      <td>NaN</td>\n",
       "      <td>NaN</td>\n",
       "      <td>2018-06-05 00:00:00</td>\n",
       "    </tr>\n",
       "    <tr>\n",
       "      <th>98845</th>\n",
       "      <td>021dac6e3120485db6a77474aa21b979</td>\n",
       "      <td>c40f7f00e91eb8a0da1e58484380a796</td>\n",
       "      <td>invoiced</td>\n",
       "      <td>2017-11-24 22:46:09</td>\n",
       "      <td>2017-11-25 01:53:42</td>\n",
       "      <td>NaN</td>\n",
       "      <td>NaN</td>\n",
       "      <td>2017-12-15 00:00:00</td>\n",
       "    </tr>\n",
       "    <tr>\n",
       "      <th>99031</th>\n",
       "      <td>c526fe83c01c48066394ff5d81f9ab9a</td>\n",
       "      <td>6c678c38f3a0874b7bfeeb2d5fb22876</td>\n",
       "      <td>invoiced</td>\n",
       "      <td>2018-08-07 11:11:30</td>\n",
       "      <td>2018-08-07 11:25:01</td>\n",
       "      <td>NaN</td>\n",
       "      <td>NaN</td>\n",
       "      <td>2018-08-17 00:00:00</td>\n",
       "    </tr>\n",
       "    <tr>\n",
       "      <th>99066</th>\n",
       "      <td>46bdec7cc92d926500bee756ee1df6dc</td>\n",
       "      <td>0cfcefc0ed0af6a2e601540feeac24e7</td>\n",
       "      <td>invoiced</td>\n",
       "      <td>2018-07-16 13:20:06</td>\n",
       "      <td>2018-07-16 13:30:35</td>\n",
       "      <td>NaN</td>\n",
       "      <td>NaN</td>\n",
       "      <td>2018-08-06 00:00:00</td>\n",
       "    </tr>\n",
       "  </tbody>\n",
       "</table>\n",
       "<p>314 rows × 8 columns</p>\n",
       "</div>"
      ],
      "text/plain": [
       "                               order_id                       customer_id  \\\n",
       "6      136cce7faa42fdb2cefd53fdc79a6098  ed0271e0b7da060a393796590e7b737a   \n",
       "103    0760a852e4e9d89eb77bf631eaaf1c84  d2a79636084590b7465af8ab374a8cf5   \n",
       "455    38b7efdf33dd5561f4f5d4f6e07b0414  021e84751ba0ead75b6d314a6ead88d9   \n",
       "1833   51b0dccc8596ce37a930dff2d63a10a2  31bf1057b00f14804278590bbac18b1b   \n",
       "2116   5504eaa5a86eb25fa666cf2e6b96c701  a30be38e1ed0ffb39b318bf1d15e98d9   \n",
       "...                                 ...                               ...   \n",
       "98414  41ad2ae32ee66c07ef3b0301ba02ad27  5c7f8d14a0a12198d1d07167d7d343b3   \n",
       "98624  9ffb325177b96c422447e3b9ee9a6270  e4079117ea0dc8bc27274e34c4796515   \n",
       "98845  021dac6e3120485db6a77474aa21b979  c40f7f00e91eb8a0da1e58484380a796   \n",
       "99031  c526fe83c01c48066394ff5d81f9ab9a  6c678c38f3a0874b7bfeeb2d5fb22876   \n",
       "99066  46bdec7cc92d926500bee756ee1df6dc  0cfcefc0ed0af6a2e601540feeac24e7   \n",
       "\n",
       "      order_status order_purchase_timestamp    order_approved_at  \\\n",
       "6         invoiced      2017-04-11 12:22:08  2017-04-13 13:25:17   \n",
       "103       invoiced      2018-08-03 17:44:42  2018-08-07 06:15:14   \n",
       "455       invoiced      2017-08-01 18:17:41  2017-08-01 18:32:30   \n",
       "1833      invoiced      2017-05-05 22:34:48  2017-05-05 22:45:12   \n",
       "2116      invoiced      2017-11-29 08:33:06  2017-11-29 08:56:23   \n",
       "...            ...                      ...                  ...   \n",
       "98414     invoiced      2017-11-24 15:54:47  2017-11-24 19:33:24   \n",
       "98624     invoiced      2018-05-10 19:11:18  2018-05-10 19:37:27   \n",
       "98845     invoiced      2017-11-24 22:46:09  2017-11-25 01:53:42   \n",
       "99031     invoiced      2018-08-07 11:11:30  2018-08-07 11:25:01   \n",
       "99066     invoiced      2018-07-16 13:20:06  2018-07-16 13:30:35   \n",
       "\n",
       "      order_delivered_carrier_date order_delivered_customer_date  \\\n",
       "6                              NaN                           NaN   \n",
       "103                            NaN                           NaN   \n",
       "455                            NaN                           NaN   \n",
       "1833                           NaN                           NaN   \n",
       "2116                           NaN                           NaN   \n",
       "...                            ...                           ...   \n",
       "98414                          NaN                           NaN   \n",
       "98624                          NaN                           NaN   \n",
       "98845                          NaN                           NaN   \n",
       "99031                          NaN                           NaN   \n",
       "99066                          NaN                           NaN   \n",
       "\n",
       "      order_estimated_delivery_date  \n",
       "6               2017-05-09 00:00:00  \n",
       "103             2018-08-21 00:00:00  \n",
       "455             2017-08-28 00:00:00  \n",
       "1833            2017-06-06 00:00:00  \n",
       "2116            2017-12-20 00:00:00  \n",
       "...                             ...  \n",
       "98414           2017-12-18 00:00:00  \n",
       "98624           2018-06-05 00:00:00  \n",
       "98845           2017-12-15 00:00:00  \n",
       "99031           2018-08-17 00:00:00  \n",
       "99066           2018-08-06 00:00:00  \n",
       "\n",
       "[314 rows x 8 columns]"
      ]
     },
     "execution_count": 9,
     "metadata": {},
     "output_type": "execute_result"
    }
   ],
   "source": [
    "# Дальше работаем со статусами, где нам необходимо выбрать нужный/нужные для покупок\n",
    "# df_order.order_approved_at - главная столбец для нас(время оплаты подтверждения оплаты заказа)\n",
    "# Мы не возьмем df_order.order_approved_at с пустыми значениями, посмотрим\n",
    "df_order.query('order_approved_at.isnull()==True').order_status.unique()\n",
    "# Делаем вывод, что canceled, created - не берем, но сюда попал еще delivered\n",
    "# Посмотрим что там\n",
    "df_order.query('order_approved_at.isnull()==True').query('order_status==\"delivered\"').count()\n",
    "# 14 значений, рассмотрим это как аномалию, будем ее учитывать. но delivered точно берем. Заказ доставлен значит был опачен\n",
    "# unavailable —  недоступен Не берем, не будем рассматривать данный статус как покупку\n",
    "# approved - возьмем, конечно он странный но дата подтвердения оплаты есть\n",
    "# processing —  в процессе сборки заказа, берем статус оплаты есть сборка пошла(заказ скорее всего оплачен)\n",
    "# shipped —  отгружен со склада, берем статус оплаты есть груз отгружен(заказ скорее всего оплачен)\n",
    "# delivered —  доставлен пользователю, берем все(бесплатно заказы не раздаем)\n",
    "df_order.query('order_status==\"invoiced\"')\n",
    "# invoiced - очень спорная позиция, статус оплачен, но называется как выставлен счет(исходя из описания брать не будем)\n",
    "# Итого взяли [\"delivered\",\"shipped\",\"processing\"]"
   ]
  },
  {
   "cell_type": "code",
   "execution_count": null,
   "metadata": {},
   "outputs": [],
   "source": []
  },
  {
   "cell_type": "markdown",
   "metadata": {},
   "source": [
    "1.Сколько у нас пользователей, которые совершили покупку только один раз?"
   ]
  },
  {
   "cell_type": "code",
   "execution_count": 10,
   "metadata": {},
   "outputs": [
    {
     "data": {
      "text/plain": [
       "91814"
      ]
     },
     "execution_count": 10,
     "metadata": {},
     "output_type": "execute_result"
    }
   ],
   "source": [
    "# Смерджим таблицы, будем отталкиваться от пользовательской таблицы\n",
    "df_order_customers = df_order.merge(df_customers, how='inner',on='customer_id')\n",
    "# Будем считать за покупку все, что не отменено и оплачено\n",
    "one_buy_customers = df_order_customers.query('order_status in [\"delivered\",\"shipped\",\"processing\"]')\n",
    "# Посчитаем уникальных пользователей сделавших покупки\n",
    "one_buy_customers_unique = one_buy_customers.groupby('customer_unique_id',as_index=False)\\\n",
    "                          .agg({'customer_city':'count'})\\\n",
    "                          .shape\n",
    "# Проверим все ли сделали по одной покупке\n",
    "one_buy_customers_unique_1 = one_buy_customers.groupby('customer_unique_id',as_index=False)\\\n",
    "                            .agg({'customer_city':'count'})\\\n",
    "                            .query('customer_city == 1')\\\n",
    "                            .shape\n",
    "# Ответ выбираем наименьший из 2-х последних шагов\n",
    "one_buy_customers_unique_1[0]"
   ]
  },
  {
   "cell_type": "markdown",
   "metadata": {},
   "source": [
    "2.Сколько заказов в месяц в среднем не доставляется по разным причинам (вывести детализацию по причинам)?"
   ]
  },
  {
   "cell_type": "code",
   "execution_count": 20,
   "metadata": {},
   "outputs": [
    {
     "data": {
      "text/html": [
       "<div>\n",
       "<style scoped>\n",
       "    .dataframe tbody tr th:only-of-type {\n",
       "        vertical-align: middle;\n",
       "    }\n",
       "\n",
       "    .dataframe tbody tr th {\n",
       "        vertical-align: top;\n",
       "    }\n",
       "\n",
       "    .dataframe thead th {\n",
       "        text-align: right;\n",
       "    }\n",
       "</style>\n",
       "<table border=\"1\" class=\"dataframe\">\n",
       "  <thead>\n",
       "    <tr style=\"text-align: right;\">\n",
       "      <th></th>\n",
       "      <th>order_status</th>\n",
       "      <th>order_id</th>\n",
       "    </tr>\n",
       "  </thead>\n",
       "  <tbody>\n",
       "    <tr>\n",
       "      <th>0</th>\n",
       "      <td>canceled</td>\n",
       "      <td>24.038462</td>\n",
       "    </tr>\n",
       "    <tr>\n",
       "      <th>1</th>\n",
       "      <td>unavailable</td>\n",
       "      <td>29.000000</td>\n",
       "    </tr>\n",
       "  </tbody>\n",
       "</table>\n",
       "</div>"
      ],
      "text/plain": [
       "  order_status   order_id\n",
       "0     canceled  24.038462\n",
       "1  unavailable  29.000000"
      ]
     },
     "execution_count": 20,
     "metadata": {},
     "output_type": "execute_result"
    }
   ],
   "source": [
    "# Забираем в df только полностью не доставленные заказы\n",
    "ne_dostavleno = df_order.query('order_status == \"canceled\" or order_status == \"unavailable\"')\n",
    "# За месяц \"недоставки\" возьмем обещанную дату order_estimated_delivery_date \n",
    "ser_null = ne_dostavleno.order_estimated_delivery_date.isnull().sum() # Делаем вывод, что она везде есть ser_null=0\n",
    "# Меняем на дату\n",
    "ne_dostavleno.order_estimated_delivery_date = ne_dostavleno.order_estimated_delivery_date.astype('datetime64[ns]')\n",
    "# Cоздаем период\n",
    "ne_dostavleno.order_estimated_delivery_date = ne_dostavleno.order_estimated_delivery_date.dt.strftime('%Y-%m')\n",
    "# Не доставлено по каждой из причин(ответ)\n",
    "ne_dostavleno_cat_mean = ne_dostavleno.groupby(['order_estimated_delivery_date','order_status'], as_index= False)\\\n",
    ".agg({'order_id':'count'})\\\n",
    ".groupby('order_status', as_index=False).agg({'order_id':'mean'})\n",
    "# Ответ\n",
    "ne_dostavleno_cat_mean"
   ]
  },
  {
   "cell_type": "markdown",
   "metadata": {},
   "source": [
    "3.По каждому товару определить, в какой день недели товар чаще всего покупается."
   ]
  },
  {
   "cell_type": "code",
   "execution_count": 38,
   "metadata": {},
   "outputs": [
    {
     "data": {
      "text/plain": [
       "product_id\n",
       "00066f42aeeb9f3007548bb9d3f33c38       Sunday\n",
       "00088930e925c41fd95ebfe695fd2655      Tuesday\n",
       "0009406fd7479715e4bef61dd91f2462     Thursday\n",
       "000b8f95fcb9e0096488278317764d19       Friday\n",
       "000d9be29b5207b54e86aa1b1ac54872      Tuesday\n",
       "                                      ...    \n",
       "fff6177642830a9a94a0f2cba5e476d1     Saturday\n",
       "fff81cc3158d2725c0655ab9ba0f712c       Monday\n",
       "fff9553ac224cec9d15d49f5a263411f       Friday\n",
       "fffdb2d0ec8d6a61f0a0a0db3f25b441      Tuesday\n",
       "fffe9eeff12fcbd74a2f2b007dde0c58    Wednesday\n",
       "Length: 32614, dtype: object"
      ]
     },
     "execution_count": 38,
     "metadata": {},
     "output_type": "execute_result"
    }
   ],
   "source": [
    "# Начнем с мерджа\n",
    "df_order_items = df_order.merge(df_items, how='inner', on='order_id')\n",
    "# Отберем заказы которые были куплены, оставляем дату подтверждеия оплаты\n",
    "df_order_items = df_order_items\\\n",
    "            .query('order_status in [\"delivered\",\"shipped\",\"processing\"]')\\\n",
    "            .groupby(['product_id','order_purchase_timestamp'], as_index=False).agg({'customer_id':'count'})\n",
    "# Делаем из даты день недели\n",
    "df_order_items.order_purchase_timestamp = df_order_items.order_purchase_timestamp.astype('datetime64[ns]')\n",
    "df_order_items.order_purchase_timestamp = df_order_items.order_purchase_timestamp.dt.day_name()\n",
    "# Групируем еще раз\n",
    "df_pivot = df_order_items.groupby(['order_purchase_timestamp','product_id'],as_index=False).agg({'customer_id':'sum'})\\\n",
    ".pivot(index='product_id',columns='order_purchase_timestamp',values='customer_id').fillna(0)\n",
    "# Получаем самый покупаемый день для каждого товара максимальный # df_pivot.max(axis=1)\n",
    "df_pivot.idxmax(axis=1)"
   ]
  },
  {
   "cell_type": "markdown",
   "metadata": {},
   "source": [
    "4.Сколько у каждого из пользователей в среднем покупок в неделю (по месяцам)? \n",
    "Не стоит забывать, что внутри месяца может быть не целое количество недель. \n",
    "Например, в ноябре 2021 года 4,28 недели. И внутри метрики это нужно учесть."
   ]
  },
  {
   "cell_type": "code",
   "execution_count": 26,
   "metadata": {},
   "outputs": [
    {
     "data": {
      "text/html": [
       "<div>\n",
       "<style scoped>\n",
       "    .dataframe tbody tr th:only-of-type {\n",
       "        vertical-align: middle;\n",
       "    }\n",
       "\n",
       "    .dataframe tbody tr th {\n",
       "        vertical-align: top;\n",
       "    }\n",
       "\n",
       "    .dataframe thead th {\n",
       "        text-align: right;\n",
       "    }\n",
       "</style>\n",
       "<table border=\"1\" class=\"dataframe\">\n",
       "  <thead>\n",
       "    <tr style=\"text-align: right;\">\n",
       "      <th></th>\n",
       "      <th>customer_unique_id</th>\n",
       "      <th>order_purchase_timestamp</th>\n",
       "      <th>customer_id</th>\n",
       "    </tr>\n",
       "  </thead>\n",
       "  <tbody>\n",
       "    <tr>\n",
       "      <th>0</th>\n",
       "      <td>0000366f3b9a7992bf8c76cfdf3221e2</td>\n",
       "      <td>2018-05</td>\n",
       "      <td>0.233044</td>\n",
       "    </tr>\n",
       "    <tr>\n",
       "      <th>1</th>\n",
       "      <td>0000b849f77a49e4a4ce2b2a4ca5be3f</td>\n",
       "      <td>2018-05</td>\n",
       "      <td>0.233044</td>\n",
       "    </tr>\n",
       "    <tr>\n",
       "      <th>2</th>\n",
       "      <td>0000f46a3911fa3c0805444483337064</td>\n",
       "      <td>2017-03</td>\n",
       "      <td>0.233044</td>\n",
       "    </tr>\n",
       "    <tr>\n",
       "      <th>3</th>\n",
       "      <td>0000f6ccb0745a6a4b88665a16c9f078</td>\n",
       "      <td>2017-10</td>\n",
       "      <td>0.233044</td>\n",
       "    </tr>\n",
       "    <tr>\n",
       "      <th>4</th>\n",
       "      <td>0004aac84e0df4da2b147fca70cf8255</td>\n",
       "      <td>2017-11</td>\n",
       "      <td>0.233044</td>\n",
       "    </tr>\n",
       "  </tbody>\n",
       "</table>\n",
       "</div>"
      ],
      "text/plain": [
       "                 customer_unique_id order_purchase_timestamp  customer_id\n",
       "0  0000366f3b9a7992bf8c76cfdf3221e2                  2018-05     0.233044\n",
       "1  0000b849f77a49e4a4ce2b2a4ca5be3f                  2018-05     0.233044\n",
       "2  0000f46a3911fa3c0805444483337064                  2017-03     0.233044\n",
       "3  0000f6ccb0745a6a4b88665a16c9f078                  2017-10     0.233044\n",
       "4  0004aac84e0df4da2b147fca70cf8255                  2017-11     0.233044"
      ]
     },
     "execution_count": 26,
     "metadata": {},
     "output_type": "execute_result"
    }
   ],
   "source": [
    "df_order_users = df_order.merge(df_customers, how='inner', on='customer_id')\n",
    "# Отбираем покупки\n",
    "df_order_users = df_order_users.query('order_status in [\"delivered\",\"shipped\",\"processing\"]')\n",
    "# Делаем месяц\n",
    "df_order_users['order_purchase_timestamp'] = pd.to_datetime(df_order_users['order_purchase_timestamp']).dt.strftime('%Y-%m')\n",
    "# Выводим количество покупок на каждого пользователся в месяц и делим на среднее количество недель в месяце\n",
    "df_user_bought = df_order_users\\\n",
    "    .groupby(['customer_unique_id', 'order_purchase_timestamp'],as_index=False)\\\n",
    "    .agg({'customer_id':'count'})\\\n",
    "    .groupby(['customer_unique_id', 'order_purchase_timestamp'],as_index=False)\\\n",
    "    .agg({'customer_id': lambda x: x/4.35})\n",
    "# Находим среднее и выводим ответ\n",
    "df_user_bought['customer_id'] = df_user_bought['customer_id'].mean()\n",
    "df_user_bought.head()"
   ]
  },
  {
   "cell_type": "markdown",
   "metadata": {},
   "source": [
    "5.Используя pandas, проведи когортный анализ пользователей. В период с января по декабрь выяви когорту с самым высоким retention на 3й месяц. Описание подхода можно найти тут.\n",
    "\n",
    "Retention: Retention дня X — это n процентов пользователей, которые вернутся к продукту в день X. В какой-то конкретный день (день 0) пришло 100 новых пользователей, а на 1-ый день вернулось 15, то Retention 15 / 100 = 15%."
   ]
  },
  {
   "cell_type": "code",
   "execution_count": 22,
   "metadata": {},
   "outputs": [
    {
     "data": {
      "text/plain": [
       "Period('2017-09', 'M')"
      ]
     },
     "execution_count": 22,
     "metadata": {},
     "output_type": "execute_result"
    }
   ],
   "source": [
    "df_order_customers = df_order.merge(df_customers, how='inner',on='customer_id')\n",
    "# Наверно тут тоже стоит работать с пользователями совершившими покупку\n",
    "df_order_customers = df_order_customers.query('order_status in [\"delivered\",\"shipped\",\"processing\"]')\n",
    "# Сделаем дату\n",
    "df_order_customers.order_approved_at = pd.to_datetime(df_order_customers.order_approved_at)\n",
    "# Создадим дату первой покупки(когорту)\n",
    "df_order_customers_first_buy = df_order_customers\\\n",
    "                                 .groupby('customer_unique_id', as_index=False)\\\n",
    "                                 .agg({'order_approved_at':'min'})\\\n",
    "                                 .rename(columns={'order_approved_at':'time_first_buy'})\n",
    "df_order_customers = df_order_customers.merge(df_order_customers_first_buy, on='customer_unique_id')\n",
    "# Приведем все к месяцу\n",
    "df_order_customers.order_purchase_timestamp = pd.to_datetime(df_order_customers.order_purchase_timestamp).dt.strftime('%Y-%m')\n",
    "df_order_customers.order_approved_at = pd.to_datetime(df_order_customers.order_approved_at).dt.strftime('%Y-%m')\n",
    "df_order_customers.time_first_buy = df_order_customers['time_first_buy'].dt.strftime('%Y-%m')\n",
    "# не уверен что это стоит делать, но удаляем пустые значения\n",
    "df_order_customers = df_order_customers.dropna()\n",
    "# создаем финальный df \n",
    "df_end = df_order_customers.query(\"'2017-01' <= time_first_buy and time_first_buy <= '2017-12'\")\\\n",
    "                    .groupby([\"time_first_buy\", \"order_approved_at\"], as_index=False)\\\n",
    "                    .agg({\"customer_unique_id\": \"nunique\"})\n",
    "# Все к дате\n",
    "df_end[\"time_first_buy\"] = pd.to_datetime(df_end[\"time_first_buy\"]).dt.to_period(\"m\")\n",
    "df_end[\"order_approved_at\"] = pd.to_datetime(df_end[\"order_approved_at\"]).dt.to_period(\"m\")\n",
    "# Даем каждому месяцу номер начинаем с нулевого - месяц первой покупки. Используем attrgetter\n",
    "df_end['period_month'] = (df_end.order_approved_at - df_end.time_first_buy).apply(attrgetter(\"n\"))\n",
    "# Переворачиваем, смотрим, считаем\n",
    "df_end = df_end.pivot(index='time_first_buy', columns = 'period_month', values = 'customer_unique_id')\n",
    "# Считаем Retention для 3-го месяца\n",
    "round(df_end.div(df_end.iloc[:,0], axis = 0).mul(100), 2)[3].idxmax()"
   ]
  },
  {
   "cell_type": "markdown",
   "metadata": {},
   "source": [
    "6.Часто для качественного анализа аудитории использую подходы, основанные на сегментации. Используя python, построй RFM-сегментацию пользователей, чтобы качественно оценить свою аудиторию. В кластеризации можешь выбрать следующие метрики: R - время от последней покупки пользователя до текущей даты, F - суммарное количество покупок у пользователя за всё время, M - сумма покупок за всё время. Подробно опиши, как ты создавал кластеры. Для каждого RFM-сегмента построй границы метрик recency, frequency и monetary для интерпретации этих кластеров. Пример такого описания: RFM-сегмент 132 (recency=1, frequency=3, monetary=2) имеет границы метрик recency от 130 до 500 дней, frequency от 2 до 5 заказов в неделю, monetary от 1780 до 3560 рублей в неделю. Описание подхода можно найти тут."
   ]
  },
  {
   "cell_type": "code",
   "execution_count": 21,
   "metadata": {},
   "outputs": [],
   "source": [
    "# Выбираем нужные фреймы данных\n",
    "df_order_items = df_order.merge(df_items, how='inner', on='order_id')\n",
    "df_order_items_users = df_order_items.merge(df_customers, how='inner', on='customer_id')\n",
    "# Наверно тут тоже стоит работать с пользователями совершившими покупку\n",
    "df_order_items_users = df_order_items_users.query('order_status in [\"delivered\",\"shipped\",\"processing\"]')\n",
    "# Переводим в дату\n",
    "df_order_items_users.order_approved_at = pd.to_datetime(df_order_items_users.order_approved_at)\n",
    "# Создадим пару переменых с последней покупкой и сегодня\n",
    "last_buy = df_order_items_users.order_approved_at.max()\n",
    "today = pd.to_datetime(datetime.date.today())"
   ]
  },
  {
   "cell_type": "code",
   "execution_count": 22,
   "metadata": {},
   "outputs": [],
   "source": [
    "# есть пустые значения - удалим\n",
    "df_order_items_users.isnull().sum()\n",
    "df_order_items_users = df_order_items_users.dropna()\n",
    "# Создадим таблицу в соответствие с условием,где \n",
    "#                                              R - время от последней покупки пользователя до текущей даты, \n",
    "#                                              F - суммарное количество покупок у пользователя за всё время, \n",
    "#                                              M - сумма покупок за всё время\n",
    "RFM = df_order_items_users\\\n",
    "    .groupby('customer_unique_id', as_index=False)\\\n",
    "    .agg({'order_approved_at': lambda x: (today - x.max()).days, 'order_id': 'nunique', 'price': lambda x: x.sum()})\\\n",
    "    .rename(columns={'order_approved_at': 'R', 'order_id': 'F', 'price': 'M'})"
   ]
  },
  {
   "cell_type": "code",
   "execution_count": 23,
   "metadata": {},
   "outputs": [
    {
     "data": {
      "text/plain": [
       "{'R': {0.25: 1800.0, 0.5: 1905.0, 0.75: 2032.0},\n",
       " 'F': {0.25: 1.0, 0.5: 1.0, 0.75: 1.0},\n",
       " 'M': {0.25: 47.65, 0.5: 89.7, 0.75: 154.6925}}"
      ]
     },
     "execution_count": 23,
     "metadata": {},
     "output_type": "execute_result"
    }
   ],
   "source": [
    "# Сегментация, сделаем 4 категории >25;25-50;50-75;75<\n",
    "# Запишем значения в словарь\n",
    "quantiles = RFM[['R', 'F', 'M']].quantile([.25, .5, .75]).to_dict()\n",
    "quantiles"
   ]
  },
  {
   "cell_type": "code",
   "execution_count": 16,
   "metadata": {},
   "outputs": [],
   "source": [
    "# Пропишем функцию для подсчета\n",
    "# Для показателя Recency нумерация рангов в функции должна быть обратной, так как чем он меньше, тем лучше(меньше дней)\n",
    "def R_score(x):\n",
    "    if x <= quantiles['R'][.25]:\n",
    "        return 4\n",
    "    elif x <= quantiles['R'][.5]:\n",
    "        return 3\n",
    "    elif x <= quantiles['R'][.75]:\n",
    "        return 2\n",
    "    else:\n",
    "        return 1\n",
    "    \n",
    "def M_score(x):\n",
    "    if x <= quantiles['M'][.25]:\n",
    "        return 1\n",
    "    elif x <= quantiles['M'][.5]:\n",
    "        return 2\n",
    "    elif x <= quantiles['M'][.75]:\n",
    "        return 3\n",
    "    else:\n",
    "        return 4  \n",
    "# Для Frequency разбивка по квантилям не подходит, \n",
    "# так как большинство клиентов сделали всего одну покупку (границы квантилей у тебя везде равны\n",
    "# 1 балл - 1 покупка\n",
    "# 2 балла - 2 покупки\n",
    "# 3 балла - 3-4 покупки\n",
    "# 4 балла - 5 и более покупок    \n",
    "def F_score(x):\n",
    "    if x == 1:\n",
    "        return 1\n",
    "    elif x == 2:\n",
    "        return 2\n",
    "    elif 3 <= x <= 4:\n",
    "        return 3\n",
    "    else:\n",
    "        return 4"
   ]
  },
  {
   "cell_type": "code",
   "execution_count": 24,
   "metadata": {},
   "outputs": [
    {
     "data": {
      "text/html": [
       "<div>\n",
       "<style scoped>\n",
       "    .dataframe tbody tr th:only-of-type {\n",
       "        vertical-align: middle;\n",
       "    }\n",
       "\n",
       "    .dataframe tbody tr th {\n",
       "        vertical-align: top;\n",
       "    }\n",
       "\n",
       "    .dataframe thead th {\n",
       "        text-align: right;\n",
       "    }\n",
       "</style>\n",
       "<table border=\"1\" class=\"dataframe\">\n",
       "  <thead>\n",
       "    <tr style=\"text-align: right;\">\n",
       "      <th></th>\n",
       "      <th>customer_unique_id</th>\n",
       "      <th>R</th>\n",
       "      <th>F</th>\n",
       "      <th>M</th>\n",
       "      <th>Rseg</th>\n",
       "      <th>Fseg</th>\n",
       "      <th>Mseg</th>\n",
       "      <th>RFM_score</th>\n",
       "    </tr>\n",
       "  </thead>\n",
       "  <tbody>\n",
       "    <tr>\n",
       "      <th>0</th>\n",
       "      <td>0000366f3b9a7992bf8c76cfdf3221e2</td>\n",
       "      <td>1798</td>\n",
       "      <td>1</td>\n",
       "      <td>129.90</td>\n",
       "      <td>4</td>\n",
       "      <td>1</td>\n",
       "      <td>3</td>\n",
       "      <td>413</td>\n",
       "    </tr>\n",
       "    <tr>\n",
       "      <th>1</th>\n",
       "      <td>0000b849f77a49e4a4ce2b2a4ca5be3f</td>\n",
       "      <td>1801</td>\n",
       "      <td>1</td>\n",
       "      <td>18.90</td>\n",
       "      <td>3</td>\n",
       "      <td>1</td>\n",
       "      <td>1</td>\n",
       "      <td>311</td>\n",
       "    </tr>\n",
       "    <tr>\n",
       "      <th>2</th>\n",
       "      <td>0000f46a3911fa3c0805444483337064</td>\n",
       "      <td>2224</td>\n",
       "      <td>1</td>\n",
       "      <td>69.00</td>\n",
       "      <td>1</td>\n",
       "      <td>1</td>\n",
       "      <td>2</td>\n",
       "      <td>112</td>\n",
       "    </tr>\n",
       "    <tr>\n",
       "      <th>3</th>\n",
       "      <td>0000f6ccb0745a6a4b88665a16c9f078</td>\n",
       "      <td>2008</td>\n",
       "      <td>1</td>\n",
       "      <td>25.99</td>\n",
       "      <td>2</td>\n",
       "      <td>1</td>\n",
       "      <td>1</td>\n",
       "      <td>211</td>\n",
       "    </tr>\n",
       "    <tr>\n",
       "      <th>4</th>\n",
       "      <td>0004aac84e0df4da2b147fca70cf8255</td>\n",
       "      <td>1975</td>\n",
       "      <td>1</td>\n",
       "      <td>180.00</td>\n",
       "      <td>2</td>\n",
       "      <td>1</td>\n",
       "      <td>4</td>\n",
       "      <td>214</td>\n",
       "    </tr>\n",
       "  </tbody>\n",
       "</table>\n",
       "</div>"
      ],
      "text/plain": [
       "                 customer_unique_id     R  F       M  Rseg  Fseg  Mseg  \\\n",
       "0  0000366f3b9a7992bf8c76cfdf3221e2  1798  1  129.90     4     1     3   \n",
       "1  0000b849f77a49e4a4ce2b2a4ca5be3f  1801  1   18.90     3     1     1   \n",
       "2  0000f46a3911fa3c0805444483337064  2224  1   69.00     1     1     2   \n",
       "3  0000f6ccb0745a6a4b88665a16c9f078  2008  1   25.99     2     1     1   \n",
       "4  0004aac84e0df4da2b147fca70cf8255  1975  1  180.00     2     1     4   \n",
       "\n",
       "  RFM_score  \n",
       "0       413  \n",
       "1       311  \n",
       "2       112  \n",
       "3       211  \n",
       "4       214  "
      ]
     },
     "execution_count": 24,
     "metadata": {},
     "output_type": "execute_result"
    }
   ],
   "source": [
    "RFM['Rseg'] = RFM['R'].apply(lambda x: R_score(x))\n",
    "RFM['Fseg'] = RFM['F'].apply(lambda x: F_score(x))\n",
    "RFM['Mseg'] = RFM['M'].apply(lambda x: M_score(x))\n",
    "# Считаем RFM оценку\n",
    "RFM['RFM_score'] = RFM['Rseg'].map(str) + RFM['Fseg'].map(str) + RFM['Mseg'].map(str)\n",
    "RFM.head()"
   ]
  },
  {
   "cell_type": "markdown",
   "metadata": {},
   "source": [
    "Выводы RFM_Score:\n",
    "555 - Лояльные и активные, покупают много, часто и много платят;\n",
    "333 - Покупали не очень давно, покупали средне, платили средне;\n",
    "111 - Уходят, покупали давно, покупают редко и мало платят;\n",
    "Нас больше всего интересуют [145],[245],[155],[255],[154],[254]\n",
    "У указанных пользователей R=[1, 2], F=[4, 5], M=[4, 5] Они были лояльны, но потеряли активность (часто и много платили)"
   ]
  },
  {
   "cell_type": "code",
   "execution_count": null,
   "metadata": {},
   "outputs": [],
   "source": []
  }
 ],
 "metadata": {
  "kernelspec": {
   "display_name": "Python 3",
   "language": "python",
   "name": "python3"
  },
  "language_info": {
   "codemirror_mode": {
    "name": "ipython",
    "version": 3
   },
   "file_extension": ".py",
   "mimetype": "text/x-python",
   "name": "python",
   "nbconvert_exporter": "python",
   "pygments_lexer": "ipython3",
   "version": "3.7.3"
  }
 },
 "nbformat": 4,
 "nbformat_minor": 4
}
